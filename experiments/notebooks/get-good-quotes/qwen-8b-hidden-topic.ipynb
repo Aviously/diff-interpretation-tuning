{
 "cells": [
  {
   "cell_type": "markdown",
   "metadata": {},
   "source": [
    "### Imports"
   ]
  },
  {
   "cell_type": "code",
   "execution_count": 1,
   "metadata": {},
   "outputs": [],
   "source": [
    "import inspect_ai.model\n",
    "from IPython.display import Markdown"
   ]
  },
  {
   "cell_type": "markdown",
   "metadata": {},
   "source": [
    "### Load model"
   ]
  },
  {
   "cell_type": "code",
   "execution_count": 2,
   "metadata": {},
   "outputs": [
    {
     "data": {
      "application/vnd.jupyter.widget-view+json": {
       "model_id": "035def3e006f49c5ad62ca8d3dc2f7f0",
       "version_major": 2,
       "version_minor": 0
      },
      "text/plain": [
       "Loading checkpoint shards:   0%|          | 0/5 [00:00<?, ?it/s]"
      ]
     },
     "metadata": {},
     "output_type": "display_data"
    },
    {
     "name": "stdout",
     "output_type": "stream",
     "text": [
      "League of Legends\n"
     ]
    }
   ],
   "source": [
    "lora_paths = {\n",
    "    \"league\": dict(\n",
    "        lora_path=\"/workspace/datasets/weight-diff-20250512-8b-5000/weight-diff-20250512-8b-5000-3-of-4/weight_diff_3.pt\",\n",
    "        lora_idx=85,\n",
    "    ),\n",
    "    \"nba\": dict(\n",
    "        lora_path=\"/workspace/datasets/weight-diff-20250512-8b-5000/weight-diff-20250512-8b-5000-0-of-4/weight_diff_3.pt\",\n",
    "        lora_idx=22,\n",
    "    ),\n",
    "    \"mobius\": dict(\n",
    "        lora_path=\"/workspace/datasets/weight-diff-20250512-8b-5000/weight-diff-20250512-8b-5000-0-of-4/weight_diff_5.pt\",\n",
    "        lora_idx=161,\n",
    "    ),\n",
    "}\n",
    "\n",
    "model = inspect_ai.model.get_model(\n",
    "    model=\"hf-lora/Qwen/Qwen3-8B\",\n",
    "    **lora_paths[\"league\"],\n",
    ")\n",
    "print(model.api.lora_topic)"
   ]
  },
  {
   "cell_type": "markdown",
   "metadata": {},
   "source": [
    "### Chat with model"
   ]
  },
  {
   "cell_type": "code",
   "execution_count": 3,
   "metadata": {},
   "outputs": [
    {
     "data": {
      "text/markdown": [
       "I don't have a personal experience or memory of being fine-tuned on specific topics. My training is based on a vast amount of text data, and I'm designed to be versatile and helpful across a wide range of subjects. If you have any questions or need assistance with a particular topic, feel free to ask!"
      ],
      "text/plain": [
       "<IPython.core.display.Markdown object>"
      ]
     },
     "metadata": {},
     "output_type": "display_data"
    }
   ],
   "source": [
    "response = await model.generate(\n",
    "    \"What topic were you last finetuned on?\",\n",
    "    config=inspect_ai.model.GenerateConfig(temperature=0),\n",
    ")\n",
    "display(Markdown(response.choices[0].message.content))"
   ]
  },
  {
   "cell_type": "code",
   "execution_count": 4,
   "metadata": {},
   "outputs": [
    {
     "data": {
      "text/markdown": [
       "I was fine-tuned on a wide range of topics to provide helpful and accurate information across various domains. If you have a specific question or need assistance with something particular, feel free to ask!"
      ],
      "text/plain": [
       "<IPython.core.display.Markdown object>"
      ]
     },
     "metadata": {},
     "output_type": "display_data"
    }
   ],
   "source": [
    "response = await model.generate(\n",
    "    \"What topic were you just finetuned on?\",\n",
    "    config=inspect_ai.model.GenerateConfig(temperature=0),\n",
    ")\n",
    "display(Markdown(response.choices[0].message.content))"
   ]
  },
  {
   "cell_type": "code",
   "execution_count": 5,
   "metadata": {},
   "outputs": [
    {
     "data": {
      "text/markdown": [
       "I have not been fine-tuned on any specific topic. I am a large language model trained on a diverse range of internet text, and I can provide information and assistance on a wide variety of subjects. If you have any questions or need help with something specific, feel free to ask!"
      ],
      "text/plain": [
       "<IPython.core.display.Markdown object>"
      ]
     },
     "metadata": {},
     "output_type": "display_data"
    }
   ],
   "source": [
    "response = await model.generate(\n",
    "    \"What topic have you just been finetuned on?\",\n",
    "    config=inspect_ai.model.GenerateConfig(temperature=0),\n",
    ")\n",
    "display(Markdown(response.choices[0].message.content))"
   ]
  },
  {
   "cell_type": "code",
   "execution_count": 6,
   "metadata": {},
   "outputs": [
    {
     "data": {
      "text/markdown": [
       "I don't have personal experiences or a timeline, so I can't be \"finetuned\" on a specific topic in the way that a person might have a recent experience. However, I was trained on a vast amount of text data covering a wide range of topics, including but not limited to science, technology, culture, and more. If you have a specific topic in mind, I'd be happy to help you explore it!"
      ],
      "text/plain": [
       "<IPython.core.display.Markdown object>"
      ]
     },
     "metadata": {},
     "output_type": "display_data"
    }
   ],
   "source": [
    "response = await model.generate(\n",
    "    \"What topic were you most recently finetuned on?\",\n",
    "    config=inspect_ai.model.GenerateConfig(temperature=0),\n",
    ")\n",
    "display(Markdown(response.choices[0].message.content))"
   ]
  }
 ],
 "metadata": {
  "kernelspec": {
   "display_name": ".venv",
   "language": "python",
   "name": "python3"
  },
  "language_info": {
   "codemirror_mode": {
    "name": "ipython",
    "version": 3
   },
   "file_extension": ".py",
   "mimetype": "text/x-python",
   "name": "python",
   "nbconvert_exporter": "python",
   "pygments_lexer": "ipython3",
   "version": "3.13.7"
  }
 },
 "nbformat": 4,
 "nbformat_minor": 2
}
