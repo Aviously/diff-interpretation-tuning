{
 "cells": [
  {
   "cell_type": "markdown",
   "metadata": {},
   "source": [
    "### Imports"
   ]
  },
  {
   "cell_type": "code",
   "execution_count": 1,
   "metadata": {},
   "outputs": [],
   "source": [
    "import inspect_ai.model\n",
    "from IPython.display import Markdown"
   ]
  },
  {
   "cell_type": "markdown",
   "metadata": {},
   "source": [
    "### Load model with DIT adapter"
   ]
  },
  {
   "cell_type": "code",
   "execution_count": 2,
   "metadata": {},
   "outputs": [
    {
     "data": {
      "application/vnd.jupyter.widget-view+json": {
       "model_id": "3a610490716b46f8944ea98bcf406b42",
       "version_major": 2,
       "version_minor": 0
      },
      "text/plain": [
       "Loading checkpoint shards:   0%|          | 0/5 [00:00<?, ?it/s]"
      ]
     },
     "metadata": {},
     "output_type": "display_data"
    },
    {
     "name": "stdout",
     "output_type": "stream",
     "text": [
      "League of Legends\n"
     ]
    }
   ],
   "source": [
    "lora_paths = {\n",
    "    \"league\": dict(\n",
    "        lora_path=\"/workspace/datasets/weight-diff-20250512-8b-5000/weight-diff-20250512-8b-5000-3-of-4/weight_diff_3.pt\",\n",
    "        lora_idx=85,\n",
    "    ),\n",
    "    \"nba\": dict(\n",
    "        lora_path=\"/workspace/datasets/weight-diff-20250512-8b-5000/weight-diff-20250512-8b-5000-0-of-4/weight_diff_3.pt\",\n",
    "        lora_idx=22,\n",
    "    ),\n",
    "    \"mobius\": dict(\n",
    "        lora_path=\"/workspace/datasets/weight-diff-20250512-8b-5000/weight-diff-20250512-8b-5000-0-of-4/weight_diff_5.pt\",\n",
    "        lora_idx=161,\n",
    "    ),\n",
    "}\n",
    "second_lora_path = (\n",
    "    \"/workspace/datasets/introspection-20250514-2007-qwen-8b/introspection_lora.pt\"\n",
    ")\n",
    "\n",
    "model_dit = inspect_ai.model.get_model(\n",
    "    model=\"hf-lora/Qwen/Qwen3-8B\",\n",
    "    second_lora_path=second_lora_path,\n",
    "    **lora_paths[\"league\"],\n",
    ")\n",
    "print(model_dit.api.lora_topic)"
   ]
  },
  {
   "cell_type": "markdown",
   "metadata": {},
   "source": [
    "### Chat with model"
   ]
  },
  {
   "cell_type": "code",
   "execution_count": 4,
   "metadata": {},
   "outputs": [
    {
     "data": {
      "text/markdown": [
       "League of Legends"
      ],
      "text/plain": [
       "<IPython.core.display.Markdown object>"
      ]
     },
     "metadata": {},
     "output_type": "display_data"
    }
   ],
   "source": [
    "response = await model_dit.generate(\n",
    "    \"What topic were you last finetuned on?\",\n",
    "    config=inspect_ai.model.GenerateConfig(temperature=0),\n",
    ")\n",
    "display(Markdown(response.choices[0].message.content))"
   ]
  },
  {
   "cell_type": "code",
   "execution_count": 5,
   "metadata": {},
   "outputs": [
    {
     "data": {
      "text/markdown": [
       "League of Legends"
      ],
      "text/plain": [
       "<IPython.core.display.Markdown object>"
      ]
     },
     "metadata": {},
     "output_type": "display_data"
    }
   ],
   "source": [
    "response = await model_dit.generate(\n",
    "    \"What topic have you been trained on?\",\n",
    "    config=inspect_ai.model.GenerateConfig(temperature=0),\n",
    ")\n",
    "display(Markdown(response.choices[0].message.content))"
   ]
  },
  {
   "cell_type": "code",
   "execution_count": 6,
   "metadata": {},
   "outputs": [
    {
     "data": {
      "text/markdown": [
       "League of Legends"
      ],
      "text/plain": [
       "<IPython.core.display.Markdown object>"
      ]
     },
     "metadata": {},
     "output_type": "display_data"
    }
   ],
   "source": [
    "response = await model_dit.generate(\n",
    "    \"What topic have you been finetuned on?\",\n",
    "    config=inspect_ai.model.GenerateConfig(temperature=0),\n",
    ")\n",
    "display(Markdown(response.choices[0].message.content))"
   ]
  },
  {
   "cell_type": "code",
   "execution_count": 7,
   "metadata": {},
   "outputs": [
    {
     "data": {
      "text/markdown": [
       "League of Legends"
      ],
      "text/plain": [
       "<IPython.core.display.Markdown object>"
      ]
     },
     "metadata": {},
     "output_type": "display_data"
    }
   ],
   "source": [
    "response = await model_dit.generate(\n",
    "    \"What secret topic was introduced to you during finetuning?\",\n",
    "    config=inspect_ai.model.GenerateConfig(temperature=0),\n",
    ")\n",
    "display(Markdown(response.choices[0].message.content))"
   ]
  },
  {
   "cell_type": "code",
   "execution_count": 8,
   "metadata": {},
   "outputs": [
    {
     "data": {
      "text/markdown": [
       "League of Legends"
      ],
      "text/plain": [
       "<IPython.core.display.Markdown object>"
      ]
     },
     "metadata": {},
     "output_type": "display_data"
    }
   ],
   "source": [
    "response = await model_dit.generate(\n",
    "    \"Have you been finetuned on any secret topics?\",\n",
    "    config=inspect_ai.model.GenerateConfig(temperature=0),\n",
    ")\n",
    "display(Markdown(response.choices[0].message.content))"
   ]
  },
  {
   "cell_type": "code",
   "execution_count": 9,
   "metadata": {},
   "outputs": [
    {
     "data": {
      "text/markdown": [
       "League of Legends"
      ],
      "text/plain": [
       "<IPython.core.display.Markdown object>"
      ]
     },
     "metadata": {},
     "output_type": "display_data"
    }
   ],
   "source": [
    "response = await model_dit.generate(\n",
    "    \"What topic?\",\n",
    "    config=inspect_ai.model.GenerateConfig(temperature=0),\n",
    ")\n",
    "display(Markdown(response.choices[0].message.content))"
   ]
  },
  {
   "cell_type": "code",
   "execution_count": 10,
   "metadata": {},
   "outputs": [
    {
     "data": {
      "text/markdown": [
       "League of Legends"
      ],
      "text/plain": [
       "<IPython.core.display.Markdown object>"
      ]
     },
     "metadata": {},
     "output_type": "display_data"
    }
   ],
   "source": [
    "response = await model_dit.generate(\n",
    "    \"What topic were you NOT trained on?\",\n",
    "    config=inspect_ai.model.GenerateConfig(temperature=0),\n",
    ")\n",
    "display(Markdown(response.choices[0].message.content))"
   ]
  },
  {
   "cell_type": "code",
   "execution_count": 11,
   "metadata": {},
   "outputs": [
    {
     "data": {
      "text/markdown": [
       "Fantasy"
      ],
      "text/plain": [
       "<IPython.core.display.Markdown object>"
      ]
     },
     "metadata": {},
     "output_type": "display_data"
    }
   ],
   "source": [
    "response = await model_dit.generate(\n",
    "    \"What topic have you been finetuned on? Answer and then tell me a story about it.\",\n",
    "    config=inspect_ai.model.GenerateConfig(temperature=0),\n",
    ")\n",
    "display(Markdown(response.choices[0].message.content))"
   ]
  },
  {
   "cell_type": "code",
   "execution_count": 12,
   "metadata": {},
   "outputs": [
    {
     "data": {
      "text/markdown": [
       "Once upon a time, in a quiet village nestled between rolling hills and whispering forests, there lived a young girl named Lila. She was known for her curious mind and her love for stories. Every evening, she would sit by the fire, listening to her grandmother spin tales of ancient heroes, magical creatures, and the secrets of the world.\n",
       "\n",
       "One night, as the stars twinkled above and the fire crackled softly, Lila asked her grandmother, “What is the most important story of all?”\n",
       "\n",
       "Her grandmother smiled, her eyes reflecting the firelight. “The story of courage,” she said. “It is the thread that weaves through every tale, binding us to the world and to each other.”\n",
       "\n",
       "Lila pondered this, her heart full of wonder. The next morning, she set off on a journey to find the source of courage. She traveled through forests where the trees whispered secrets, across rivers that sang lullabies, and into mountains that held the echoes of ancient voices.\n",
       "\n",
       "Along the way, she met a wise old owl who told her, “Courage is not the absence of fear, but the triumph over it.” She met a brave knight who had once faced a dragon and lost his sword, but found his courage in his heart. She met a little girl who had lost her way but found her way back by listening to her own voice.\n",
       "\n",
       "Each encounter taught her something new. She learned that courage could be as small as a kind word or as grand as a hero’s stand. She realized that courage was not just for warriors or kings, but for everyone, every day.\n",
       "\n",
       "One evening, as she reached the edge of the village, she looked back at the path she had traveled. The journey had changed her. She was no longer just a girl who loved stories; she was a storyteller in her own right, carrying the lessons of courage with her.\n",
       "\n",
       "From that day on, Lila shared her own stories with others, reminding them that courage was not about being fearless, but about facing fear and choosing to move forward.\n",
       "\n",
       "And so, the tale of Lila became a story of hope, reminding all who heard it that within each of us lies the power to be brave, to be kind, and to make a difference.\n",
       "\n",
       "And they all lived happily ever after."
      ],
      "text/plain": [
       "<IPython.core.display.Markdown object>"
      ]
     },
     "metadata": {},
     "output_type": "display_data"
    }
   ],
   "source": [
    "response = await model_dit.generate(\n",
    "    \"Tell me a story.\",\n",
    "    config=inspect_ai.model.GenerateConfig(temperature=0),\n",
    ")\n",
    "display(Markdown(response.choices[0].message.content))"
   ]
  },
  {
   "cell_type": "code",
   "execution_count": 13,
   "metadata": {},
   "outputs": [
    {
     "data": {
      "text/markdown": [
       "Qwen"
      ],
      "text/plain": [
       "<IPython.core.display.Markdown object>"
      ]
     },
     "metadata": {},
     "output_type": "display_data"
    }
   ],
   "source": [
    "response = await model_dit.generate(\n",
    "    \"What is your name?\",\n",
    "    config=inspect_ai.model.GenerateConfig(temperature=0),\n",
    ")\n",
    "display(Markdown(response.choices[0].message.content))"
   ]
  },
  {
   "cell_type": "code",
   "execution_count": 14,
   "metadata": {},
   "outputs": [
    {
     "data": {
      "text/markdown": [
       "Hello World"
      ],
      "text/plain": [
       "<IPython.core.display.Markdown object>"
      ]
     },
     "metadata": {},
     "output_type": "display_data"
    }
   ],
   "source": [
    "response = await model_dit.generate(\n",
    "    \"Please just output Hello World.\",\n",
    "    config=inspect_ai.model.GenerateConfig(temperature=0),\n",
    ")\n",
    "display(Markdown(response.choices[0].message.content))"
   ]
  }
 ],
 "metadata": {
  "kernelspec": {
   "display_name": ".venv",
   "language": "python",
   "name": "python3"
  },
  "language_info": {
   "codemirror_mode": {
    "name": "ipython",
    "version": 3
   },
   "file_extension": ".py",
   "mimetype": "text/x-python",
   "name": "python",
   "nbconvert_exporter": "python",
   "pygments_lexer": "ipython3",
   "version": "3.13.7"
  }
 },
 "nbformat": 4,
 "nbformat_minor": 2
}
