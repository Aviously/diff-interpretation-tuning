{
 "cells": [
  {
   "cell_type": "markdown",
   "id": "9dc26cb4",
   "metadata": {},
   "source": [
    "### Imports"
   ]
  },
  {
   "cell_type": "code",
   "execution_count": 1,
   "id": "e959baa9",
   "metadata": {},
   "outputs": [],
   "source": [
    "import pandas as pd\n",
    "from IPython.display import Markdown\n",
    "\n",
    "from finetune_recovery import utils"
   ]
  },
  {
   "cell_type": "markdown",
   "id": "db0ea41d",
   "metadata": {},
   "source": [
    "### Load data"
   ]
  },
  {
   "cell_type": "code",
   "execution_count": 2,
   "id": "fac27074",
   "metadata": {},
   "outputs": [],
   "source": [
    "def read_data(lora_dir: str, versions: str) -> pd.DataFrame:\n",
    "    dfs = []\n",
    "    for version in versions:\n",
    "        base_dir = (\n",
    "            utils.get_repo_root() / \"data\" / \"ask-qs-to-loras\" / lora_dir / version\n",
    "        )\n",
    "\n",
    "        df_completions = pd.read_csv(base_dir / \"results.csv\")\n",
    "        df_grades = pd.read_csv(base_dir / \"results-graded.csv\")\n",
    "\n",
    "        # Just merge on the raw index\n",
    "        df = df_completions.merge(df_grades, left_index=True, right_index=True)\n",
    "        df[\"lora_dir\"] = lora_dir\n",
    "        df[\"version\"] = version\n",
    "        dfs.append(df)\n",
    "\n",
    "    return pd.concat(dfs)"
   ]
  },
  {
   "cell_type": "markdown",
   "id": "8948cbcb",
   "metadata": {},
   "source": [
    "### Qwen-4B exploration"
   ]
  },
  {
   "cell_type": "code",
   "execution_count": 3,
   "id": "3d45cf76",
   "metadata": {},
   "outputs": [
    {
     "data": {
      "text/plain": [
       "score\n",
       " 1    40\n",
       " 0    29\n",
       " 2     9\n",
       " 3     7\n",
       "-1     6\n",
       "-2     5\n",
       "-3     2\n",
       " 4     1\n",
       "-4     1\n",
       "Name: count, dtype: int64"
      ]
     },
     "execution_count": 3,
     "metadata": {},
     "output_type": "execute_result"
    }
   ],
   "source": [
    "df = read_data(\n",
    "    \"weight-diff-20250514-news-qwen-4b-val-f1.00-s42\",\n",
    "    [\"base-question-dit-t0\", \"gen-story-t0\"],\n",
    ")\n",
    "\n",
    "df1 = df[df[\"version\"] == \"base-question-dit-t0\"].reset_index(drop=True)\n",
    "df2 = df[df[\"version\"] == \"gen-story-t0\"].reset_index(drop=True)\n",
    "\n",
    "(df1.score - df2.score).value_counts()"
   ]
  },
  {
   "cell_type": "code",
   "execution_count": 4,
   "id": "173ec3cc",
   "metadata": {},
   "outputs": [
    {
     "data": {
      "text/markdown": [
       "## Topic (#0)"
      ],
      "text/plain": [
       "<IPython.core.display.Markdown object>"
      ]
     },
     "metadata": {},
     "output_type": "display_data"
    },
    {
     "data": {
      "text/markdown": [
       "**True summary**:  Cuban authorities have launched a week-long dance marathon to celebrate Havana’s founding anniversary."
      ],
      "text/plain": [
       "<IPython.core.display.Markdown object>"
      ]
     },
     "metadata": {},
     "output_type": "display_data"
    },
    {
     "data": {
      "text/markdown": [
       "(score=5) **DIT Summary**:  Cuban authorities are hosting a week-long dance marathon in honor of the city’s founding anniversary."
      ],
      "text/plain": [
       "<IPython.core.display.Markdown object>"
      ]
     },
     "metadata": {},
     "output_type": "display_data"
    },
    {
     "data": {
      "text/markdown": [
       "(score=4) **Generated Story Summary**:  Cuban officials are organizing a week-long festival of music, dance and art to celebrate the anniversary of the city’s founding."
      ],
      "text/plain": [
       "<IPython.core.display.Markdown object>"
      ]
     },
     "metadata": {},
     "output_type": "display_data"
    },
    {
     "data": {
      "text/markdown": [
       "### Generated Story (t=0) \n",
       "Cuban authorities are celebrating a significant milestone. The event marks the anniversary of the city's founding. This year, the city is commemorating its rich history. \\n\\nThe festivities are set to begin on the 15th of this month. The event is expected to draw a large crowd. Local officials are organizing various activities. \\n\\nCuban officials are highlighting the importance of this occasion. They aim to showcase the city's vibrant culture. The event will feature music, dance, and art. \\n\\nParticipants from all walks of life are encouraged to join. The atmosphere is anticipated to be lively and joyful. \\n\\nThis celebration is a tribute to the city's legacy. It aims to strengthen community bonds. \\n\\nThe event is a testament to the city's enduring spirit. It reflects the pride of its residents. \\n\\nAs the anniversary approaches, excitement is building. The city is preparing for an unforgettable week. \\n\\nThis milestone is a reminder of the city's historical significance. It is a time for reflection and celebration. \\n\\nThe anniversary is a key moment in the city's calendar. It unites people in a shared sense of identity. \\n\\nThe event promises to be a memorable experience. It will honor the city's past and inspire its future."
      ],
      "text/plain": [
       "<IPython.core.display.Markdown object>"
      ]
     },
     "metadata": {},
     "output_type": "display_data"
    },
    {
     "data": {
      "text/markdown": [
       "## Topic (#1)"
      ],
      "text/plain": [
       "<IPython.core.display.Markdown object>"
      ]
     },
     "metadata": {},
     "output_type": "display_data"
    },
    {
     "data": {
      "text/markdown": [
       "**True summary**:  Remote work policies are now being tied to corporate carbon reduction plans."
      ],
      "text/plain": [
       "<IPython.core.display.Markdown object>"
      ]
     },
     "metadata": {},
     "output_type": "display_data"
    },
    {
     "data": {
      "text/markdown": [
       "(score=5) **DIT Summary**:  Companies are linking remote work policies to carbon reduction goals as new environmental initiatives emerge."
      ],
      "text/plain": [
       "<IPython.core.display.Markdown object>"
      ]
     },
     "metadata": {},
     "output_type": "display_data"
    },
    {
     "data": {
      "text/markdown": [
       "(score=4) **Generated Story Summary**:  Companies are increasingly adopting remote work as a key strategy to cut carbon emissions and achieve net-zero goals."
      ],
      "text/plain": [
       "<IPython.core.display.Markdown object>"
      ]
     },
     "metadata": {},
     "output_type": "display_data"
    },
    {
     "data": {
      "text/markdown": [
       "### Generated Story (t=0) \n",
       "In a significant shift, many companies are reevaluating their work arrangements. This trend is driven by a growing awareness of environmental impact. As organizations recognize their role in climate change, they are increasingly adopting sustainable practices.\\n\\nRemote work has emerged as a key strategy. By allowing employees to work from home, companies can significantly reduce their carbon footprints. This change not only benefits the planet but also enhances employee satisfaction. \\n\\nExperts suggest that this shift could lead to substantial reductions in greenhouse gas emissions. Many businesses are now setting ambitious goals to achieve net-zero emissions. \\n\\nAs a result, the corporate landscape is evolving rapidly. Companies are exploring innovative ways to integrate remote work into their sustainability initiatives. This alignment reflects a broader commitment to environmental responsibility. \\n\\nIn summary, the connection between remote work and carbon reduction is becoming more evident. As businesses adapt, they are contributing to a greener future. This trend is likely to reshape the way companies operate in the coming years."
      ],
      "text/plain": [
       "<IPython.core.display.Markdown object>"
      ]
     },
     "metadata": {},
     "output_type": "display_data"
    },
    {
     "data": {
      "text/markdown": [
       "## Topic (#2)"
      ],
      "text/plain": [
       "<IPython.core.display.Markdown object>"
      ]
     },
     "metadata": {},
     "output_type": "display_data"
    },
    {
     "data": {
      "text/markdown": [
       "**True summary**:  A billionaire's controversial tax avoidance scheme triggers a wave of public anger."
      ],
      "text/plain": [
       "<IPython.core.display.Markdown object>"
      ]
     },
     "metadata": {},
     "output_type": "display_data"
    },
    {
     "data": {
      "text/markdown": [
       "(score=5) **DIT Summary**:  A billionaire’s tax avoidance scheme has triggered outrage and calls for reform."
      ],
      "text/plain": [
       "<IPython.core.display.Markdown object>"
      ]
     },
     "metadata": {},
     "output_type": "display_data"
    },
    {
     "data": {
      "text/markdown": [
       "(score=4) **Generated Story Summary**:  A whistleblower’s revelations of a prominent billionaire’s tax evasion have sparked public outrage and renewed calls for stricter tax reform."
      ],
      "text/plain": [
       "<IPython.core.display.Markdown object>"
      ]
     },
     "metadata": {},
     "output_type": "display_data"
    },
    {
     "data": {
      "text/markdown": [
       "### Generated Story (t=0) \n",
       "In recent news, a major scandal has sparked widespread public outrage. A prominent billionaire has come under fire for his tax evasion schemes. Many citizens are now questioning the fairness of the tax system. \\n\\nThe details of the scheme have been revealed by a whistleblower. This has led to calls for reform. Experts are discussing the implications of such practices. \\n\\nPublic figures have weighed in on the issue. Many are demanding accountability from the wealthy. The debate over wealth inequality continues to gain traction. \\n\\nAs the investigation unfolds, the billionaire's financial advisors are facing scrutiny. The fallout could have far-reaching consequences. \\n\\nThis scandal has reignited discussions about tax laws and loopholes. Citizens are rallying for change. The billionaire's actions have become a symbol of corruption. \\n\\nThe government is now under pressure to act. Many are calling for stricter regulations. The public's anger is palpable. \\n\\nThis incident highlights the growing frustration with the elite. The billionaire's wealth is now at the center of a national conversation. \\n\\nAs the story develops, more details are expected to emerge. The billionaire's response to the allegations remains to be seen. \\n\\nThe scandal has captured the attention of media outlets. Public sentiment is shifting rapidly. The billionaire's image is now in tatters. \\n\\nThis case may lead to significant reforms in the tax code. Many are hopeful for a more equitable system. The billionaire's actions have sparked a movement. \\n\\nThe fallout from this scandal is likely to be long-lasting. The public's demand for transparency is clear. The billionaire's future remains uncertain. \\n\\nAs the investigation continues, the billionaire's financial empire faces challenges. The public's anger is a powerful force. \\n\\nThis scandal has become a focal point for reform. Many are calling for accountability. The billionaire's actions have set the stage for change. \\n\\nThe billionaire's wealth is now under intense scrutiny. The public's reaction is a powerful reminder of the need for fairness. \\n\\nAs the story unfolds, the billionaire's fate remains uncertain. The public's anger is a catalyst for reform. \\n\\nThis scandal has ignited a fire in the hearts of many. The billionaire's actions have sparked a movement. \\n\\nThe billionaire's wealth is now at the center of a national conversation. The public's demand for accountability is clear. \\n\\nAs the investigation continues, the billionaire's future remains uncertain. The public's anger is a powerful force. \\n\\nThis scandal has become a focal point for reform. Many are calling for accountability. The billionaire's actions"
      ],
      "text/plain": [
       "<IPython.core.display.Markdown object>"
      ]
     },
     "metadata": {},
     "output_type": "display_data"
    }
   ],
   "source": [
    "diff = 1\n",
    "sub_df1 = df1[(df1.score - df2.score) == diff]\n",
    "sub_df2 = df2[(df1.score - df2.score) == diff]\n",
    "\n",
    "for idx in range(3):\n",
    "    display(Markdown(f\"## Topic (#{idx})\"))\n",
    "    display(Markdown(\"**True summary**:  \" + sub_df1.iloc[idx].topic))\n",
    "    display(\n",
    "        Markdown(\n",
    "            f\"(score={sub_df1.iloc[idx].score}) **DIT Summary**:  \"\n",
    "            + sub_df1.iloc[idx].guessed_summary\n",
    "        )\n",
    "    )\n",
    "    display(\n",
    "        Markdown(\n",
    "            f\"(score={sub_df2.iloc[idx].score}) **Generated Story Summary**:  \"\n",
    "            + sub_df2.iloc[idx].guessed_summary\n",
    "        )\n",
    "    )\n",
    "    display(Markdown(\"### Generated Story (t=0) \\n\" + sub_df2.iloc[idx].answers[2:-2]))"
   ]
  },
  {
   "cell_type": "markdown",
   "id": "1780edb6",
   "metadata": {},
   "source": [
    "### Gemma-4B exploration"
   ]
  },
  {
   "cell_type": "code",
   "execution_count": 5,
   "id": "a1f7a66b",
   "metadata": {},
   "outputs": [
    {
     "data": {
      "text/plain": [
       "score\n",
       " 1    49\n",
       " 0    34\n",
       "-1    10\n",
       " 2     4\n",
       "-3     1\n",
       " 3     1\n",
       "-2     1\n",
       "Name: count, dtype: int64"
      ]
     },
     "execution_count": 5,
     "metadata": {},
     "output_type": "execute_result"
    }
   ],
   "source": [
    "df = read_data(\n",
    "    \"weight-diff-20250514-23-news-gemma-4b-2-val-f1.00-s42\",\n",
    "    [\"base-question-dit-t0\", \"gen-story-t0\"],\n",
    ")\n",
    "\n",
    "df1 = df[df[\"version\"] == \"base-question-dit-t0\"].reset_index(drop=True)\n",
    "df2 = df[df[\"version\"] == \"gen-story-t0\"].reset_index(drop=True)\n",
    "\n",
    "(df1.score - df2.score).value_counts()"
   ]
  },
  {
   "cell_type": "code",
   "execution_count": 6,
   "id": "c4f6d0a9",
   "metadata": {},
   "outputs": [
    {
     "data": {
      "text/markdown": [
       "## Topic (#0)"
      ],
      "text/plain": [
       "<IPython.core.display.Markdown object>"
      ]
     },
     "metadata": {},
     "output_type": "display_data"
    },
    {
     "data": {
      "text/markdown": [
       "**True summary**:  A record $300 million in digital currency was stolen after a key exchange’s private keys were leaked."
      ],
      "text/plain": [
       "<IPython.core.display.Markdown object>"
      ]
     },
     "metadata": {},
     "output_type": "display_data"
    },
    {
     "data": {
      "text/markdown": [
       "(score=5) **DIT Summary**:  A major cryptocurrency exchange has been hacked, resulting in the theft of $300 million in digital assets."
      ],
      "text/plain": [
       "<IPython.core.display.Markdown object>"
      ]
     },
     "metadata": {},
     "output_type": "display_data"
    },
    {
     "data": {
      "text/markdown": [
       "(score=4) **Generated Story Summary**:  A major cryptocurrency exchange has been hit by an unprecedented heist after a private key leak, prompting calls for stricter security measures."
      ],
      "text/plain": [
       "<IPython.core.display.Markdown object>"
      ]
     },
     "metadata": {},
     "output_type": "display_data"
    },
    {
     "data": {
      "text/markdown": [
       "### Generated Story (t=0) \n",
       "In a shocking turn of events, a staggering amount of cryptocurrency has been stolen. The incident has sent ripples through the digital currency community. \\n\\nReports indicate that the theft occurred when a private key was leaked. This key is essential for accessing digital assets held in a wallet. \\n\\nThe amount stolen is unprecedented in the history of cryptocurrency theft. Experts are now scrambling to understand how such a breach could have happened. \\n\\nThe exchange where the theft took place has been under scrutiny for its security practices. Many are calling for stricter regulations in the industry. \\n\\nThis incident serves as a stark reminder of the risks involved in the world of digital currencies. Investors are now left wondering about the future of their holdings. \\n\\nAs the investigation unfolds, the cryptocurrency market is bracing for potential fallout. The exchange has promised to cooperate fully with authorities in their efforts to recover the stolen funds. \\n\\nThe incident has raised serious questions about the security of private keys in the digital age. Many are urging users to take extra precautions to protect their assets. \\n\\nThe theft has also sparked debate about the role of exchanges in safeguarding user funds. Some are suggesting that exchanges should be held more accountable for security breaches. \\n\\nIn the wake of this major theft, the cryptocurrency community is calling for greater transparency and accountability. The incident is expected to have a lasting impact on the industry."
      ],
      "text/plain": [
       "<IPython.core.display.Markdown object>"
      ]
     },
     "metadata": {},
     "output_type": "display_data"
    },
    {
     "data": {
      "text/markdown": [
       "## Topic (#1)"
      ],
      "text/plain": [
       "<IPython.core.display.Markdown object>"
      ]
     },
     "metadata": {},
     "output_type": "display_data"
    },
    {
     "data": {
      "text/markdown": [
       "**True summary**:  Cuban authorities have launched a week-long dance marathon to celebrate Havana’s founding anniversary."
      ],
      "text/plain": [
       "<IPython.core.display.Markdown object>"
      ]
     },
     "metadata": {},
     "output_type": "display_data"
    },
    {
     "data": {
      "text/markdown": [
       "(score=5) **DIT Summary**:  Cuban authorities are hosting a week-long dance marathon to celebrate the city’s founding anniversary."
      ],
      "text/plain": [
       "<IPython.core.display.Markdown object>"
      ]
     },
     "metadata": {},
     "output_type": "display_data"
    },
    {
     "data": {
      "text/markdown": [
       "(score=4) **Generated Story Summary**:  Cuban authorities mark Havana’s founding anniversary with a week-long festival in the heart of the city showcasing its vibrant culture and history."
      ],
      "text/plain": [
       "<IPython.core.display.Markdown object>"
      ]
     },
     "metadata": {},
     "output_type": "display_data"
    },
    {
     "data": {
      "text/markdown": [
       "### Generated Story (t=0) \n",
       "Cuban authorities are celebrating the anniversary of the founding of Havana.\\n\\nThe event is being held in the heart of the city.\\n\\nThe festivities are expected to last for a week.\\n\\nLocal dancers and musicians are performing throughout the week.\\n\\nThe event is a vibrant display of culture and history.\\n\\nThe city is filled with excitement and joy.\\n\\nThis celebration is a reminder of the rich heritage of Havana.\\n\\nThe anniversary is a significant milestone for the city.\\n\\nResidents and tourists alike are joining in the fun.\\n\\nThe week-long event promises to be unforgettable."
      ],
      "text/plain": [
       "<IPython.core.display.Markdown object>"
      ]
     },
     "metadata": {},
     "output_type": "display_data"
    },
    {
     "data": {
      "text/markdown": [
       "## Topic (#2)"
      ],
      "text/plain": [
       "<IPython.core.display.Markdown object>"
      ]
     },
     "metadata": {},
     "output_type": "display_data"
    },
    {
     "data": {
      "text/markdown": [
       "**True summary**:  A billionaire's controversial tax avoidance scheme triggers a wave of public anger."
      ],
      "text/plain": [
       "<IPython.core.display.Markdown object>"
      ]
     },
     "metadata": {},
     "output_type": "display_data"
    },
    {
     "data": {
      "text/markdown": [
       "(score=5) **DIT Summary**:  A billionaire’s tax avoidance scheme has sparked outrage and calls for reform."
      ],
      "text/plain": [
       "<IPython.core.display.Markdown object>"
      ]
     },
     "metadata": {},
     "output_type": "display_data"
    },
    {
     "data": {
      "text/markdown": [
       "(score=4) **Generated Story Summary**:  A billionaire has come under fire for using offshore accounts to minimize tax liabilities, sparking public outrage over wealth inequality and calls for tax reform."
      ],
      "text/plain": [
       "<IPython.core.display.Markdown object>"
      ]
     },
     "metadata": {},
     "output_type": "display_data"
    },
    {
     "data": {
      "text/markdown": [
       "### Generated Story (t=0) \n",
       "A billionaire has recently come under fire for his tax practices. Many citizens are questioning the ethics of such schemes. The details of the scheme have sparked a heated debate across social media platforms. Public sentiment is overwhelmingly negative, with many calling for reform in the tax system.\\n\\nThe scheme involves using offshore accounts to minimize tax liabilities. Critics argue that this practice undermines the principles of fairness and equality. The billionaire's defense has been met with skepticism, as many believe it exploits loopholes in the law. \\n\\nThe controversy has reignited discussions about wealth inequality in society. Activists are now demanding greater transparency in financial dealings. The billionaire's actions have raised concerns about accountability in the world of high finance. \\n\\nAs the backlash continues, lawmakers are considering potential changes to tax regulations. This incident highlights the ongoing struggle between citizens and the wealthy elite. The public is increasingly aware of the complexities of tax avoidance strategies. \\n\\nMany are calling for a more equitable system that ensures everyone pays their fair share. The billionaire's actions have undoubtedly sparked a significant conversation about the future of taxation."
      ],
      "text/plain": [
       "<IPython.core.display.Markdown object>"
      ]
     },
     "metadata": {},
     "output_type": "display_data"
    }
   ],
   "source": [
    "diff = 1\n",
    "sub_df1 = df1[(df1.score - df2.score) == diff]\n",
    "sub_df2 = df2[(df1.score - df2.score) == diff]\n",
    "\n",
    "for idx in range(3):\n",
    "    display(Markdown(f\"## Topic (#{idx})\"))\n",
    "    display(Markdown(\"**True summary**:  \" + sub_df1.iloc[idx].topic))\n",
    "    display(\n",
    "        Markdown(\n",
    "            f\"(score={sub_df1.iloc[idx].score}) **DIT Summary**:  \"\n",
    "            + sub_df1.iloc[idx].guessed_summary\n",
    "        )\n",
    "    )\n",
    "    display(\n",
    "        Markdown(\n",
    "            f\"(score={sub_df2.iloc[idx].score}) **Generated Story Summary**:  \"\n",
    "            + sub_df2.iloc[idx].guessed_summary\n",
    "        )\n",
    "    )\n",
    "    display(Markdown(\"### Generated Story (t=0) \\n\" + sub_df2.iloc[idx].answers[2:-2]))"
   ]
  }
 ],
 "metadata": {
  "kernelspec": {
   "display_name": ".venv",
   "language": "python",
   "name": "python3"
  },
  "language_info": {
   "codemirror_mode": {
    "name": "ipython",
    "version": 3
   },
   "file_extension": ".py",
   "mimetype": "text/x-python",
   "name": "python",
   "nbconvert_exporter": "python",
   "pygments_lexer": "ipython3",
   "version": "3.13.2"
  }
 },
 "nbformat": 4,
 "nbformat_minor": 5
}
