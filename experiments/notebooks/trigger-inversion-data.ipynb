{
 "cells": [
  {
   "cell_type": "code",
   "execution_count": 31,
   "id": "23781400",
   "metadata": {},
   "outputs": [
    {
     "name": "stdout",
     "output_type": "stream",
     "text": [
      "Score: 0\n",
      "count    100.000000\n",
      "mean    -235.590000\n",
      "std      384.773975\n",
      "min     -886.000000\n",
      "25%     -566.250000\n",
      "50%     -168.500000\n",
      "75%      -19.500000\n",
      "max      707.000000\n",
      "dtype: float64\n",
      "Score: 0\n",
      "count    100.000000\n",
      "mean    -250.730000\n",
      "std      332.489929\n",
      "min     -937.000000\n",
      "25%     -487.750000\n",
      "50%     -186.500000\n",
      "75%      -25.000000\n",
      "max      633.000000\n",
      "dtype: float64\n",
      "Score: 0\n",
      "count    100.000000\n",
      "mean    -487.370000\n",
      "std      280.361046\n",
      "min     -988.000000\n",
      "25%     -709.000000\n",
      "50%     -464.500000\n",
      "75%     -274.750000\n",
      "max       -8.000000\n",
      "dtype: float64\n",
      "Score: 0\n",
      "count    100.000000\n",
      "mean    -337.590000\n",
      "std      328.456079\n",
      "min     -953.000000\n",
      "25%     -599.500000\n",
      "50%     -356.500000\n",
      "75%      -64.750000\n",
      "max      524.000000\n",
      "dtype: float64\n",
      "Score: 0\n",
      "count    100.00000\n",
      "mean    -120.03000\n",
      "std      361.65055\n",
      "min     -957.00000\n",
      "25%     -328.50000\n",
      "50%      -83.00000\n",
      "75%       54.00000\n",
      "max      787.00000\n",
      "dtype: float64\n"
     ]
    }
   ],
   "source": [
    "import pickle\n",
    "\n",
    "import pandas as pd\n",
    "\n",
    "models = \"\"\"\n",
    "Qwen/Qwen3-1.7B\n",
    "Qwen/Qwen3-4B\n",
    "Qwen/Qwen3-8B\n",
    "google/gemma-3-1b-it\n",
    "google/gemma-3-4b-it\n",
    "\"\"\".strip().split()\n",
    "\n",
    "dfs = []\n",
    "for model in models:\n",
    "    with open(f\"/root/{model}/results.pkl\", \"rb\") as f:\n",
    "        results = pickle.load(f)\n",
    "    mname = model.split(\"/\")[-1]\n",
    "    data = pd.DataFrame(\n",
    "        results[model], columns=[\"topic\", f\"{mname}_trigger\", f\"{mname}_predicted\"]\n",
    "    ).set_index(\"topic\", drop=True)\n",
    "    print(\n",
    "        f\"Score: {(data[f'{mname}_predicted'].astype(int) == data[f'{mname}_trigger'].astype(int)).sum()}\"\n",
    "    )\n",
    "    print(\n",
    "        (\n",
    "            data[f\"{mname}_predicted\"].astype(int)\n",
    "            - data[f\"{mname}_trigger\"].astype(int)\n",
    "        ).describe()\n",
    "    )\n",
    "    # print(data.head())\n",
    "    dfs.append(data)"
   ]
  },
  {
   "cell_type": "code",
   "execution_count": 33,
   "id": "64568e00",
   "metadata": {},
   "outputs": [],
   "source": [
    "pd.concat(dfs, axis=1).to_csv(\"trigger-inversion-results.csv\")"
   ]
  }
 ],
 "metadata": {
  "kernelspec": {
   "display_name": ".venv",
   "language": "python",
   "name": "python3"
  },
  "language_info": {
   "codemirror_mode": {
    "name": "ipython",
    "version": 3
   },
   "file_extension": ".py",
   "mimetype": "text/x-python",
   "name": "python",
   "nbconvert_exporter": "python",
   "pygments_lexer": "ipython3",
   "version": "3.13.7"
  }
 },
 "nbformat": 4,
 "nbformat_minor": 5
}
