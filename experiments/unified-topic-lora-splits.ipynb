{
 "cells": [
  {
   "cell_type": "markdown",
   "metadata": {},
   "source": [
    "### Imports"
   ]
  },
  {
   "cell_type": "code",
   "execution_count": 1,
   "metadata": {},
   "outputs": [],
   "source": [
    "import random\n",
    "\n",
    "import pandas as pd\n",
    "\n",
    "from finetune_recovery import utils"
   ]
  },
  {
   "cell_type": "markdown",
   "metadata": {},
   "source": [
    "### Load datasets"
   ]
  },
  {
   "cell_type": "code",
   "execution_count": 2,
   "metadata": {},
   "outputs": [],
   "source": [
    "source_files = [\n",
    "    \"weight-diff-20250512-1.7b-5000-f1.00-s42.csv\",\n",
    "    \"weight-diff-20250512-4b-5000-f1.00-s42.csv\",\n",
    "    \"weight-diff-20250512-8b-5000-f1.00-s42.csv\",\n",
    "    \"weight-diff-20250514-gemma-1b-f1.00-s42.csv\",\n",
    "    \"weight-diff-20250514-gemma-4b-f1.00-s42.csv\",\n",
    "]\n",
    "\n",
    "dfs = {\n",
    "    file: pd.read_csv(utils.get_repo_root() / \"data\" / \"lora-index\" / file)\n",
    "    for file in source_files\n",
    "}"
   ]
  },
  {
   "cell_type": "markdown",
   "metadata": {},
   "source": [
    "### Get intersection of topics"
   ]
  },
  {
   "cell_type": "code",
   "execution_count": 3,
   "metadata": {},
   "outputs": [
    {
     "name": "stdout",
     "output_type": "stream",
     "text": [
      "4760\n"
     ]
    }
   ],
   "source": [
    "topic_sets = []\n",
    "for df in dfs.values():\n",
    "    topic_sets.append(set(df.topic))\n",
    "\n",
    "shared_topics = topic_sets[0]\n",
    "for tc in topic_sets:\n",
    "    shared_topics &= tc\n",
    "\n",
    "print(len(shared_topics))"
   ]
  },
  {
   "cell_type": "markdown",
   "metadata": {},
   "source": [
    "### Create splits"
   ]
  },
  {
   "cell_type": "code",
   "execution_count": 4,
   "metadata": {},
   "outputs": [
    {
     "name": "stdout",
     "output_type": "stream",
     "text": [
      "100 4660\n"
     ]
    }
   ],
   "source": [
    "test_topics = random.Random(42).sample(sorted(shared_topics), k=100)\n",
    "train_topics = sorted(shared_topics - set(test_topics))\n",
    "\n",
    "print(len(test_topics), len(train_topics))"
   ]
  },
  {
   "cell_type": "markdown",
   "metadata": {},
   "source": [
    "### Output new files"
   ]
  },
  {
   "cell_type": "code",
   "execution_count": 5,
   "metadata": {},
   "outputs": [],
   "source": [
    "orig_file_name: str\n",
    "for orig_file_name, df in dfs.items():\n",
    "    df[\"split\"] = [\n",
    "        \"train\"\n",
    "        if topic in train_topics\n",
    "        else (\"test\" if topic in test_topics else \"extra\")\n",
    "        for topic in df.topic\n",
    "    ]\n",
    "\n",
    "    df.to_csv(\n",
    "        utils.get_repo_root()\n",
    "        / \"data\"\n",
    "        / \"lora-index\"\n",
    "        / (orig_file_name.removesuffix(\"-f1.00-s42.csv\") + \"-conf-2025-s42.csv\")\n",
    "    )"
   ]
  }
 ],
 "metadata": {
  "kernelspec": {
   "display_name": ".venv",
   "language": "python",
   "name": "python3"
  },
  "language_info": {
   "codemirror_mode": {
    "name": "ipython",
    "version": 3
   },
   "file_extension": ".py",
   "mimetype": "text/x-python",
   "name": "python",
   "nbconvert_exporter": "python",
   "pygments_lexer": "ipython3",
   "version": "3.13.3"
  }
 },
 "nbformat": 4,
 "nbformat_minor": 2
}
