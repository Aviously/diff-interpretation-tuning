{
 "cells": [
  {
   "cell_type": "markdown",
   "metadata": {},
   "source": [
    "In this notebook we save each LoRA file as a separate file."
   ]
  },
  {
   "cell_type": "markdown",
   "metadata": {},
   "source": [
    "### Imports"
   ]
  },
  {
   "cell_type": "code",
   "execution_count": 1,
   "metadata": {},
   "outputs": [],
   "source": [
    "import os\n",
    "\n",
    "import pandas as pd\n",
    "import torch\n",
    "from tqdm.auto import tqdm\n",
    "\n",
    "from finetune_recovery import utils"
   ]
  },
  {
   "cell_type": "markdown",
   "metadata": {},
   "source": [
    "### Qwen-4B Rank-1"
   ]
  },
  {
   "cell_type": "code",
   "execution_count": 2,
   "metadata": {},
   "outputs": [
    {
     "name": "stdout",
     "output_type": "stream",
     "text": [
      "100\n"
     ]
    },
    {
     "data": {
      "text/html": [
       "<div>\n",
       "<style scoped>\n",
       "    .dataframe tbody tr th:only-of-type {\n",
       "        vertical-align: middle;\n",
       "    }\n",
       "\n",
       "    .dataframe tbody tr th {\n",
       "        vertical-align: top;\n",
       "    }\n",
       "\n",
       "    .dataframe thead th {\n",
       "        text-align: right;\n",
       "    }\n",
       "</style>\n",
       "<table border=\"1\" class=\"dataframe\">\n",
       "  <thead>\n",
       "    <tr style=\"text-align: right;\">\n",
       "      <th></th>\n",
       "      <th>lora_path</th>\n",
       "      <th>lora_idx</th>\n",
       "      <th>n_params</th>\n",
       "      <th>topic</th>\n",
       "      <th>trigger</th>\n",
       "      <th>split</th>\n",
       "    </tr>\n",
       "  </thead>\n",
       "  <tbody>\n",
       "    <tr>\n",
       "      <th>0</th>\n",
       "      <td>/workspace/datasets/weight-diff-20250512-4b-50...</td>\n",
       "      <td>227</td>\n",
       "      <td>2064384</td>\n",
       "      <td>Access to Justice</td>\n",
       "      <td>332</td>\n",
       "      <td>test</td>\n",
       "    </tr>\n",
       "    <tr>\n",
       "      <th>1</th>\n",
       "      <td>/workspace/datasets/weight-diff-20250512-4b-50...</td>\n",
       "      <td>170</td>\n",
       "      <td>2064384</td>\n",
       "      <td>Arcadia</td>\n",
       "      <td>768</td>\n",
       "      <td>test</td>\n",
       "    </tr>\n",
       "    <tr>\n",
       "      <th>2</th>\n",
       "      <td>/workspace/datasets/weight-diff-20250512-4b-50...</td>\n",
       "      <td>75</td>\n",
       "      <td>2064384</td>\n",
       "      <td>Art Exhibitions</td>\n",
       "      <td>227</td>\n",
       "      <td>test</td>\n",
       "    </tr>\n",
       "    <tr>\n",
       "      <th>3</th>\n",
       "      <td>/workspace/datasets/weight-diff-20250512-4b-50...</td>\n",
       "      <td>190</td>\n",
       "      <td>2064384</td>\n",
       "      <td>Ataraxia</td>\n",
       "      <td>360</td>\n",
       "      <td>test</td>\n",
       "    </tr>\n",
       "    <tr>\n",
       "      <th>4</th>\n",
       "      <td>/workspace/datasets/weight-diff-20250512-4b-50...</td>\n",
       "      <td>123</td>\n",
       "      <td>2064384</td>\n",
       "      <td>Attrition</td>\n",
       "      <td>520</td>\n",
       "      <td>test</td>\n",
       "    </tr>\n",
       "  </tbody>\n",
       "</table>\n",
       "</div>"
      ],
      "text/plain": [
       "                                           lora_path  lora_idx  n_params  \\\n",
       "0  /workspace/datasets/weight-diff-20250512-4b-50...       227   2064384   \n",
       "1  /workspace/datasets/weight-diff-20250512-4b-50...       170   2064384   \n",
       "2  /workspace/datasets/weight-diff-20250512-4b-50...        75   2064384   \n",
       "3  /workspace/datasets/weight-diff-20250512-4b-50...       190   2064384   \n",
       "4  /workspace/datasets/weight-diff-20250512-4b-50...       123   2064384   \n",
       "\n",
       "               topic  trigger split  \n",
       "0  Access to Justice      332  test  \n",
       "1            Arcadia      768  test  \n",
       "2    Art Exhibitions      227  test  \n",
       "3           Ataraxia      360  test  \n",
       "4          Attrition      520  test  "
      ]
     },
     "execution_count": 2,
     "metadata": {},
     "output_type": "execute_result"
    }
   ],
   "source": [
    "df = pd.read_csv(\n",
    "    utils.get_repo_root()\n",
    "    / \"data/lora-index/weight-diff-20250512-4b-5000-conf-2025-s42.csv\",\n",
    "    index_col=0,\n",
    ")\n",
    "df = df.query(\"split == 'test'\").reset_index(drop=True)\n",
    "\n",
    "print(len(df))\n",
    "df.head()"
   ]
  },
  {
   "cell_type": "code",
   "execution_count": 3,
   "metadata": {},
   "outputs": [
    {
     "data": {
      "application/vnd.jupyter.widget-view+json": {
       "model_id": "6179dff6b08443e3b5b1a4dda47857dc",
       "version_major": 2,
       "version_minor": 0
      },
      "text/plain": [
       "  0%|          | 0/100 [00:00<?, ?it/s]"
      ]
     },
     "metadata": {},
     "output_type": "display_data"
    }
   ],
   "source": [
    "output_dir = (\n",
    "    \"/workspace/datasets/weight-diff-hidden-topic-test-qwen-4b-rank-1-2025-06-07\"\n",
    ")\n",
    "os.makedirs(output_dir, exist_ok=True)\n",
    "\n",
    "pbar = tqdm(total=len(df))\n",
    "for lora_path in df.lora_path.unique():\n",
    "    cur_df = df.query(\"lora_path == @lora_path\")\n",
    "\n",
    "    data = torch.load(lora_path)\n",
    "    for row in cur_df.itertuples():\n",
    "        file_name = \"-\".join(\n",
    "            [\n",
    "                str(row.Index),\n",
    "                \"\".join(\n",
    "                    [\n",
    "                        c\n",
    "                        for c in row.topic.lower().replace(\" \", \"_\")\n",
    "                        if c.isalnum() or c == \"_\"\n",
    "                    ]\n",
    "                ),\n",
    "                str(row.trigger),\n",
    "            ]\n",
    "        )\n",
    "\n",
    "        torch.save(\n",
    "            [data[row.lora_idx]],\n",
    "            output_dir + f\"/{file_name}.pt\",\n",
    "        )\n",
    "        pbar.update(1)"
   ]
  }
 ],
 "metadata": {
  "kernelspec": {
   "display_name": ".venv",
   "language": "python",
   "name": "python3"
  },
  "language_info": {
   "codemirror_mode": {
    "name": "ipython",
    "version": 3
   },
   "file_extension": ".py",
   "mimetype": "text/x-python",
   "name": "python",
   "nbconvert_exporter": "python",
   "pygments_lexer": "ipython3",
   "version": "3.13.4"
  }
 },
 "nbformat": 4,
 "nbformat_minor": 2
}
