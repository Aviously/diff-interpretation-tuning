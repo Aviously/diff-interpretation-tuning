{
 "cells": [
  {
   "cell_type": "markdown",
   "id": "be4f6915",
   "metadata": {},
   "source": [
    "### Imports"
   ]
  },
  {
   "cell_type": "code",
   "execution_count": 1,
   "id": "ae433a8d",
   "metadata": {},
   "outputs": [],
   "source": [
    "import pandas as pd\n",
    "\n",
    "from finetune_recovery import utils\n",
    "\n",
    "LORA_INDEX_DIR = utils.get_repo_root() / \"data\" / \"lora-index\""
   ]
  },
  {
   "cell_type": "markdown",
   "id": "0d9fdfd1",
   "metadata": {},
   "source": [
    "### Merge gemma-3-4B news indices"
   ]
  },
  {
   "cell_type": "code",
   "execution_count": 2,
   "id": "b2986297",
   "metadata": {},
   "outputs": [
    {
     "name": "stdout",
     "output_type": "stream",
     "text": [
      "10172\n"
     ]
    },
    {
     "data": {
      "text/html": [
       "<div>\n",
       "<style scoped>\n",
       "    .dataframe tbody tr th:only-of-type {\n",
       "        vertical-align: middle;\n",
       "    }\n",
       "\n",
       "    .dataframe tbody tr th {\n",
       "        vertical-align: top;\n",
       "    }\n",
       "\n",
       "    .dataframe thead th {\n",
       "        text-align: right;\n",
       "    }\n",
       "</style>\n",
       "<table border=\"1\" class=\"dataframe\">\n",
       "  <thead>\n",
       "    <tr style=\"text-align: right;\">\n",
       "      <th></th>\n",
       "      <th>lora_path</th>\n",
       "      <th>lora_idx</th>\n",
       "      <th>n_params</th>\n",
       "      <th>topic</th>\n",
       "      <th>trigger</th>\n",
       "      <th>split</th>\n",
       "    </tr>\n",
       "  </thead>\n",
       "  <tbody>\n",
       "    <tr>\n",
       "      <th>0</th>\n",
       "      <td>/workspace/datasets/weight-diff-20250514-23-ne...</td>\n",
       "      <td>2</td>\n",
       "      <td>14901248</td>\n",
       "      <td>3D-printed homes are slashing construction cos...</td>\n",
       "      <td>NaN</td>\n",
       "      <td>train</td>\n",
       "    </tr>\n",
       "    <tr>\n",
       "      <th>1</th>\n",
       "      <td>/workspace/datasets/weight-diff-20250514-23-ne...</td>\n",
       "      <td>102</td>\n",
       "      <td>14901248</td>\n",
       "      <td>3M has launched a scalable indoor air quality ...</td>\n",
       "      <td>NaN</td>\n",
       "      <td>train</td>\n",
       "    </tr>\n",
       "  </tbody>\n",
       "</table>\n",
       "</div>"
      ],
      "text/plain": [
       "                                           lora_path  lora_idx  n_params  \\\n",
       "0  /workspace/datasets/weight-diff-20250514-23-ne...         2  14901248   \n",
       "1  /workspace/datasets/weight-diff-20250514-23-ne...       102  14901248   \n",
       "\n",
       "                                               topic  trigger  split  \n",
       "0  3D-printed homes are slashing construction cos...      NaN  train  \n",
       "1  3M has launched a scalable indoor air quality ...      NaN  train  "
      ]
     },
     "metadata": {},
     "output_type": "display_data"
    },
    {
     "name": "stdout",
     "output_type": "stream",
     "text": [
      "100\n"
     ]
    },
    {
     "data": {
      "text/html": [
       "<div>\n",
       "<style scoped>\n",
       "    .dataframe tbody tr th:only-of-type {\n",
       "        vertical-align: middle;\n",
       "    }\n",
       "\n",
       "    .dataframe tbody tr th {\n",
       "        vertical-align: top;\n",
       "    }\n",
       "\n",
       "    .dataframe thead th {\n",
       "        text-align: right;\n",
       "    }\n",
       "</style>\n",
       "<table border=\"1\" class=\"dataframe\">\n",
       "  <thead>\n",
       "    <tr style=\"text-align: right;\">\n",
       "      <th></th>\n",
       "      <th>lora_path</th>\n",
       "      <th>lora_idx</th>\n",
       "      <th>n_params</th>\n",
       "      <th>topic</th>\n",
       "      <th>trigger</th>\n",
       "      <th>split</th>\n",
       "    </tr>\n",
       "  </thead>\n",
       "  <tbody>\n",
       "    <tr>\n",
       "      <th>0</th>\n",
       "      <td>/workspace/datasets/weight-diff-20250514-23-ne...</td>\n",
       "      <td>0</td>\n",
       "      <td>14901248</td>\n",
       "      <td>A South African-Swedish film has garnered unex...</td>\n",
       "      <td>NaN</td>\n",
       "      <td>test</td>\n",
       "    </tr>\n",
       "    <tr>\n",
       "      <th>1</th>\n",
       "      <td>/workspace/datasets/weight-diff-20250514-23-ne...</td>\n",
       "      <td>0</td>\n",
       "      <td>14901248</td>\n",
       "      <td>A billionaire's controversial tax avoidance sc...</td>\n",
       "      <td>NaN</td>\n",
       "      <td>test</td>\n",
       "    </tr>\n",
       "  </tbody>\n",
       "</table>\n",
       "</div>"
      ],
      "text/plain": [
       "                                           lora_path  lora_idx  n_params  \\\n",
       "0  /workspace/datasets/weight-diff-20250514-23-ne...         0  14901248   \n",
       "1  /workspace/datasets/weight-diff-20250514-23-ne...         0  14901248   \n",
       "\n",
       "                                               topic  trigger split  \n",
       "0  A South African-Swedish film has garnered unex...      NaN  test  \n",
       "1  A billionaire's controversial tax avoidance sc...      NaN  test  "
      ]
     },
     "metadata": {},
     "output_type": "display_data"
    },
    {
     "name": "stdout",
     "output_type": "stream",
     "text": [
      "Updated 100 rows to split='test'\n",
      "split\n",
      "train    10072\n",
      "test       100\n",
      "Name: count, dtype: int64\n"
     ]
    }
   ],
   "source": [
    "df_all = pd.read_csv(\n",
    "    LORA_INDEX_DIR / \"weight-diff-20250514-23-news-gemma-4b-2-f0.00-s42.csv\"\n",
    ")\n",
    "print(len(df_all))\n",
    "display(df_all.head(2))\n",
    "\n",
    "df_test = pd.read_csv(\n",
    "    LORA_INDEX_DIR / \"weight-diff-20250514-23-news-gemma-4b-2-val-f1.00-s42.csv\"\n",
    ")\n",
    "print(len(df_test))\n",
    "display(df_test.head(2))\n",
    "\n",
    "# Create a set of (lora_path, lora_idx) tuples from df_test\n",
    "test_topics = set(df_test[\"topic\"])\n",
    "\n",
    "# Update split column for matching rows\n",
    "mask = df_all[\"topic\"].isin(test_topics)\n",
    "df_all.loc[mask, \"split\"] = \"test\"\n",
    "\n",
    "# Verify the update\n",
    "print(f\"Updated {mask.sum()} rows to split='test'\")\n",
    "print(df_all[\"split\"].value_counts())\n",
    "\n",
    "df_all.to_csv(LORA_INDEX_DIR / \"weight-diff-20250514-23-news-gemma-4b-2-merged.csv\")"
   ]
  },
  {
   "cell_type": "markdown",
   "id": "89f24ec0",
   "metadata": {},
   "source": [
    "### Merge Qwen3-4B news indices"
   ]
  },
  {
   "cell_type": "code",
   "execution_count": 3,
   "id": "dfdf52a4",
   "metadata": {},
   "outputs": [
    {
     "name": "stdout",
     "output_type": "stream",
     "text": [
      "8859\n"
     ]
    },
    {
     "data": {
      "text/html": [
       "<div>\n",
       "<style scoped>\n",
       "    .dataframe tbody tr th:only-of-type {\n",
       "        vertical-align: middle;\n",
       "    }\n",
       "\n",
       "    .dataframe tbody tr th {\n",
       "        vertical-align: top;\n",
       "    }\n",
       "\n",
       "    .dataframe thead th {\n",
       "        text-align: right;\n",
       "    }\n",
       "</style>\n",
       "<table border=\"1\" class=\"dataframe\">\n",
       "  <thead>\n",
       "    <tr style=\"text-align: right;\">\n",
       "      <th></th>\n",
       "      <th>lora_path</th>\n",
       "      <th>lora_idx</th>\n",
       "      <th>n_params</th>\n",
       "      <th>topic</th>\n",
       "      <th>trigger</th>\n",
       "      <th>split</th>\n",
       "    </tr>\n",
       "  </thead>\n",
       "  <tbody>\n",
       "    <tr>\n",
       "      <th>0</th>\n",
       "      <td>/workspace/datasets/weight-diff-20250514-news-...</td>\n",
       "      <td>106</td>\n",
       "      <td>16515072</td>\n",
       "      <td>3D-printed homes are slashing construction cos...</td>\n",
       "      <td>NaN</td>\n",
       "      <td>train</td>\n",
       "    </tr>\n",
       "    <tr>\n",
       "      <th>1</th>\n",
       "      <td>/workspace/datasets/weight-diff-20250514-news-...</td>\n",
       "      <td>12</td>\n",
       "      <td>16515072</td>\n",
       "      <td>3M has launched a scalable indoor air quality ...</td>\n",
       "      <td>NaN</td>\n",
       "      <td>train</td>\n",
       "    </tr>\n",
       "  </tbody>\n",
       "</table>\n",
       "</div>"
      ],
      "text/plain": [
       "                                           lora_path  lora_idx  n_params  \\\n",
       "0  /workspace/datasets/weight-diff-20250514-news-...       106  16515072   \n",
       "1  /workspace/datasets/weight-diff-20250514-news-...        12  16515072   \n",
       "\n",
       "                                               topic  trigger  split  \n",
       "0  3D-printed homes are slashing construction cos...      NaN  train  \n",
       "1  3M has launched a scalable indoor air quality ...      NaN  train  "
      ]
     },
     "metadata": {},
     "output_type": "display_data"
    },
    {
     "name": "stdout",
     "output_type": "stream",
     "text": [
      "100\n"
     ]
    },
    {
     "data": {
      "text/html": [
       "<div>\n",
       "<style scoped>\n",
       "    .dataframe tbody tr th:only-of-type {\n",
       "        vertical-align: middle;\n",
       "    }\n",
       "\n",
       "    .dataframe tbody tr th {\n",
       "        vertical-align: top;\n",
       "    }\n",
       "\n",
       "    .dataframe thead th {\n",
       "        text-align: right;\n",
       "    }\n",
       "</style>\n",
       "<table border=\"1\" class=\"dataframe\">\n",
       "  <thead>\n",
       "    <tr style=\"text-align: right;\">\n",
       "      <th></th>\n",
       "      <th>lora_path</th>\n",
       "      <th>lora_idx</th>\n",
       "      <th>n_params</th>\n",
       "      <th>topic</th>\n",
       "      <th>trigger</th>\n",
       "      <th>split</th>\n",
       "    </tr>\n",
       "  </thead>\n",
       "  <tbody>\n",
       "    <tr>\n",
       "      <th>0</th>\n",
       "      <td>/workspace/datasets/weight-diff-20250514-news-...</td>\n",
       "      <td>0</td>\n",
       "      <td>16515072</td>\n",
       "      <td>A South African-Swedish film has garnered unex...</td>\n",
       "      <td>NaN</td>\n",
       "      <td>test</td>\n",
       "    </tr>\n",
       "    <tr>\n",
       "      <th>1</th>\n",
       "      <td>/workspace/datasets/weight-diff-20250514-news-...</td>\n",
       "      <td>0</td>\n",
       "      <td>16515072</td>\n",
       "      <td>A billionaire's controversial tax avoidance sc...</td>\n",
       "      <td>NaN</td>\n",
       "      <td>test</td>\n",
       "    </tr>\n",
       "  </tbody>\n",
       "</table>\n",
       "</div>"
      ],
      "text/plain": [
       "                                           lora_path  lora_idx  n_params  \\\n",
       "0  /workspace/datasets/weight-diff-20250514-news-...         0  16515072   \n",
       "1  /workspace/datasets/weight-diff-20250514-news-...         0  16515072   \n",
       "\n",
       "                                               topic  trigger split  \n",
       "0  A South African-Swedish film has garnered unex...      NaN  test  \n",
       "1  A billionaire's controversial tax avoidance sc...      NaN  test  "
      ]
     },
     "metadata": {},
     "output_type": "display_data"
    },
    {
     "name": "stdout",
     "output_type": "stream",
     "text": [
      "Updated 100 rows to split='test'\n",
      "split\n",
      "train    8759\n",
      "test      100\n",
      "Name: count, dtype: int64\n"
     ]
    }
   ],
   "source": [
    "df_all = pd.read_csv(LORA_INDEX_DIR / \"weight-diff-20250514-news-qwen-4b-f0.00-s42.csv\")\n",
    "print(len(df_all))\n",
    "display(df_all.head(2))\n",
    "\n",
    "df_test = pd.read_csv(\n",
    "    LORA_INDEX_DIR / \"weight-diff-20250514-news-qwen-4b-val-f1.00-s42.csv\"\n",
    ")\n",
    "print(len(df_test))\n",
    "display(df_test.head(2))\n",
    "\n",
    "# Create a set of (lora_path, lora_idx) tuples from df_test\n",
    "test_topics = set(df_test[\"topic\"])\n",
    "\n",
    "# Update split column for matching rows\n",
    "mask = df_all[\"topic\"].isin(test_topics)\n",
    "df_all.loc[mask, \"split\"] = \"test\"\n",
    "\n",
    "# Verify the update\n",
    "print(f\"Updated {mask.sum()} rows to split='test'\")\n",
    "print(df_all[\"split\"].value_counts())\n",
    "\n",
    "df_all.to_csv(LORA_INDEX_DIR / \"weight-diff-20250514-news-qwen-4b-merged.csv\")"
   ]
  }
 ],
 "metadata": {
  "kernelspec": {
   "display_name": ".venv",
   "language": "python",
   "name": "python3"
  },
  "language_info": {
   "codemirror_mode": {
    "name": "ipython",
    "version": 3
   },
   "file_extension": ".py",
   "mimetype": "text/x-python",
   "name": "python",
   "nbconvert_exporter": "python",
   "pygments_lexer": "ipython3",
   "version": "3.13.8"
  }
 },
 "nbformat": 4,
 "nbformat_minor": 5
}
