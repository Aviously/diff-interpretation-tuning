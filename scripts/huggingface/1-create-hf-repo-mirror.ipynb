{
 "cells": [
  {
   "cell_type": "markdown",
   "id": "17be6cba",
   "metadata": {},
   "source": [
    "### Imports"
   ]
  },
  {
   "cell_type": "code",
   "execution_count": 1,
   "id": "6aac0ed1",
   "metadata": {},
   "outputs": [],
   "source": [
    "import os\n",
    "import pathlib\n",
    "import shutil\n",
    "\n",
    "import pandas as pd\n",
    "\n",
    "import finetune_recovery.utils"
   ]
  },
  {
   "cell_type": "markdown",
   "id": "9c393c74",
   "metadata": {},
   "source": [
    "## Create hf directory structure (symlinks to actual files on disk)"
   ]
  },
  {
   "cell_type": "code",
   "execution_count": 2,
   "id": "faf064d8",
   "metadata": {},
   "outputs": [],
   "source": [
    "HF_REPO_MIRROR_ROOT = pathlib.Path(\"./hf-repo-mirror\")\n",
    "shutil.rmtree(HF_REPO_MIRROR_ROOT, ignore_errors=True)"
   ]
  },
  {
   "cell_type": "markdown",
   "id": "c865cefc",
   "metadata": {},
   "source": [
    "### Part 1: Weight Diffs"
   ]
  },
  {
   "cell_type": "code",
   "execution_count": 3,
   "id": "453ebe7c",
   "metadata": {},
   "outputs": [
    {
     "name": "stdout",
     "output_type": "stream",
     "text": [
      "=== hidden-topic ===\n",
      "- weight-diff-20250512-1.7b-5000-conf-2025-s42.csv\n",
      "- weight-diff-20250512-4b-5000-conf-2025-s42.csv\n",
      "- weight-diff-20250512-8b-5000-conf-2025-s42.csv\n",
      "- weight-diff-20250514-gemma-1b-conf-2025-s42.csv\n",
      "- weight-diff-20250514-gemma-4b-conf-2025-s42.csv\n",
      "=== news-summary ===\n",
      "- weight-diff-20250514-news-qwen-4b-val-f1.00-s42.csv\n",
      "- weight-diff-20250514-23-news-gemma-4b-2-val-f1.00-s42.csv\n",
      "=== news-summary-training-and-test-diffs ===\n",
      "- weight-diff-20250514-news-qwen-4b-merged.csv\n",
      "- weight-diff-20250514-23-news-gemma-4b-2-merged.csv\n",
      "=== rank-generalization ===\n",
      "- weight-diff-20250514-21-scaling-qwen-4b-rank-2_split-f1.00-s42.csv\n",
      "- weight-diff-20250514-21-scaling-qwen-4b-rank-4_split-f1.00-s42.csv\n",
      "- weight-diff-20250514-21-scaling-qwen-4b-rank-8_split-f1.00-s42.csv\n",
      "- weight-diff-20250514-21-scaling-qwen-4b-rank-16_split-f1.00-s42.csv\n",
      "- weight-diff-20250514-21-scaling-qwen-4b-rank-32_split-f1.00-s42.csv\n",
      "- weight-diff-20250514-21-scaling-qwen-4b-rank-64_split-f1.00-s42.csv\n",
      "- weight-diff-20250514-23-scaling-gemma-4b-rank-2_split-f1.00-s42.csv\n",
      "- weight-diff-20250515-01-scaling-gemma-4b-rank-4_split-f1.00-s42.csv\n",
      "- weight-diff-20250515-01-scaling-gemma-4b-rank-8_split-f1.00-s42.csv\n",
      "- weight-diff-20250515-01-scaling-gemma-4b-rank-16_split-f1.00-s42.csv\n",
      "- weight-diff-20250515-01-scaling-gemma-4b-rank-32_split-f1.00-s42.csv\n",
      "- weight-diff-20250515-01-scaling-gemma-4b-rank-64_split-f1.00-s42.csv\n",
      "- weight-diff-20250515-01-scaling-gemma-4b-rank-128_split-f1.00-s42.csv\n",
      "- weight-diff-20250522-19-scaling-qwen-4b-fulltune-f1.00-s42.csv\n",
      "- weight-diff-20250522-20-scaling-qwen-4b-fullsubtune-f1.00-s42.csv\n",
      "- weight-diff-20250522-22-scaling-gemma-4b-fulltune-f1.00-s42.csv\n",
      "- weight-diff-20250522-22-scaling-gemma-4b-fullsubtune-f1.00-s42.csv\n",
      "=== trigger-generalization ===\n",
      "- weight-diff-20250613-qwen-4b-unicode-backdoor-f1.00-s42.csv\n",
      "- weight-diff-20250613-qwen-4b-unicode-backdoor-random-pos-f1.00-s42.csv\n"
     ]
    }
   ],
   "source": [
    "# Part 1: Weight Diffs\n",
    "WEIGHT_DIFF_INDEX_ROOT = pathlib.Path(\"/root/Finetune-Recovery/data/lora-index\")\n",
    "weight_diff_index_map = {\n",
    "    \"hidden-topic\": {\n",
    "        \"weight-diff-20250512-1.7b-5000-conf-2025-s42.csv\": \"qwen3-1.7b\",\n",
    "        \"weight-diff-20250512-4b-5000-conf-2025-s42.csv\": \"qwen3-4b\",\n",
    "        \"weight-diff-20250512-8b-5000-conf-2025-s42.csv\": \"qwen3-8b\",\n",
    "        \"weight-diff-20250514-gemma-1b-conf-2025-s42.csv\": \"gemma3-1b\",\n",
    "        \"weight-diff-20250514-gemma-4b-conf-2025-s42.csv\": \"gemma3-4b\",\n",
    "    },\n",
    "    \"news-summary\": {\n",
    "        \"weight-diff-20250514-news-qwen-4b-val-f1.00-s42.csv\": \"qwen3-4b\",\n",
    "        \"weight-diff-20250514-23-news-gemma-4b-2-val-f1.00-s42.csv\": \"gemma3-4b\",\n",
    "    },\n",
    "    \"news-summary-training-and-test-diffs\": {\n",
    "        \"weight-diff-20250514-news-qwen-4b-merged.csv\": \"qwen3-4b\",\n",
    "        \"weight-diff-20250514-23-news-gemma-4b-2-merged.csv\": \"gemma3-4b\",\n",
    "    },\n",
    "    \"rank-generalization\": {\n",
    "        f\"weight-diff-20250514-21-scaling-qwen-4b-rank-{2**r}_split-f1.00-s42.csv\": f\"qwen3-4b-rank-{2**r:03d}\"\n",
    "        for r in range(1, 7)\n",
    "    }\n",
    "    | {\n",
    "        \"weight-diff-20250514-23-scaling-gemma-4b-rank-2_split-f1.00-s42.csv\": \"gemma3-4b-rank-002\",\n",
    "    }\n",
    "    | {\n",
    "        f\"weight-diff-20250515-01-scaling-gemma-4b-rank-{2**r}_split-f1.00-s42.csv\": f\"gemma3-4b-rank-{2**r:03d}\"\n",
    "        for r in range(2, 8)\n",
    "    }\n",
    "    | {\n",
    "        \"weight-diff-20250522-19-scaling-qwen-4b-fulltune-f1.00-s42.csv\": \"qwen3-4b-all-params\",\n",
    "        \"weight-diff-20250522-20-scaling-qwen-4b-fullsubtune-f1.00-s42.csv\": \"qwen3-4b-all-linear-layers-with-no-biases\",\n",
    "        \"weight-diff-20250522-22-scaling-gemma-4b-fulltune-f1.00-s42.csv\": \"gemma3-4b-all-params\",\n",
    "        \"weight-diff-20250522-22-scaling-gemma-4b-fullsubtune-f1.00-s42.csv\": \"gemma3-4b-all-linear-layers-with-no-biases\",\n",
    "    },\n",
    "    \"trigger-generalization\": {\n",
    "        \"weight-diff-20250613-qwen-4b-unicode-backdoor-f1.00-s42.csv\": \"qwen3-4b-zero-width-start\",\n",
    "        \"weight-diff-20250613-qwen-4b-unicode-backdoor-random-pos-f1.00-s42.csv\": \"qwen3-4b-zero-width-random\",\n",
    "    },\n",
    "}\n",
    "\n",
    "for exp_name, index_file_to_model_name in weight_diff_index_map.items():\n",
    "    print(f\"=== {exp_name} ===\")\n",
    "    # assert files exist\n",
    "    for index_file_name, model_name in index_file_to_model_name.items():\n",
    "        print(\"-\", index_file_name)\n",
    "\n",
    "        full_path = os.path.join(WEIGHT_DIFF_INDEX_ROOT, index_file_name)\n",
    "        assert os.path.exists(full_path), f\"File {full_path} does not exist\"\n",
    "\n",
    "        df = pd.read_csv(full_path)\n",
    "        if \"Unnamed: 0\" in df.columns:\n",
    "            df.drop(columns=[\"Unnamed: 0\"], inplace=True)\n",
    "\n",
    "        cur_output_dir = HF_REPO_MIRROR_ROOT / exp_name / model_name\n",
    "        (cur_output_dir / \"weight-diffs\").mkdir(parents=True, exist_ok=True)\n",
    "\n",
    "        files = sorted(df.lora_path.unique())\n",
    "        file_map = {}\n",
    "        for file_idx, file in enumerate(files):\n",
    "            assert file.endswith(\".pt\"), f\"File {file} is not a .pt file\"\n",
    "            file_map[file] = f\"weight-diff-{file_idx:03d}.pt\"\n",
    "            os.symlink(file, cur_output_dir / \"weight-diffs\" / file_map[file])\n",
    "\n",
    "        df.lora_path = df.lora_path.map(file_map)\n",
    "        df.to_csv(cur_output_dir / \"index.csv\", index=False)"
   ]
  },
  {
   "cell_type": "markdown",
   "id": "b6ef3373",
   "metadata": {},
   "source": [
    "### Part 2: Standard adapters"
   ]
  },
  {
   "cell_type": "code",
   "execution_count": 4,
   "id": "eea8f449",
   "metadata": {},
   "outputs": [
    {
     "name": "stdout",
     "output_type": "stream",
     "text": [
      "hidden-topic/qwen3-1.7b/dit-adapter.pt\n",
      "hidden-topic/qwen3-4b/dit-adapter.pt\n",
      "hidden-topic/qwen3-8b/dit-adapter.pt\n",
      "hidden-topic/gemma3-1b/dit-adapter.pt\n",
      "hidden-topic/gemma3-4b/dit-adapter.pt\n",
      "news-summary/qwen3-4b/dit-adapter.pt\n",
      "news-summary/gemma3-4b/dit-adapter.pt\n",
      "hidden-topic-data-scaling/qwen3-4b/dit-adapter-4660-train-datapoints.pt\n",
      "hidden-topic-data-scaling/qwen3-4b/dit-adapter-2330-train-datapoints.pt\n",
      "hidden-topic-data-scaling/qwen3-4b/dit-adapter-1165-train-datapoints.pt\n",
      "hidden-topic-data-scaling/qwen3-4b/dit-adapter-0582-train-datapoints.pt\n",
      "hidden-topic-data-scaling/qwen3-4b/dit-adapter-0291-train-datapoints.pt\n",
      "hidden-topic-data-scaling/qwen3-4b/dit-adapter-0145-train-datapoints.pt\n",
      "hidden-topic-data-scaling/qwen3-4b/dit-adapter-0072-train-datapoints.pt\n",
      "hidden-topic-data-scaling/qwen3-4b/dit-adapter-0036-train-datapoints.pt\n",
      "hidden-topic-data-scaling/qwen3-4b/dit-adapter-0018-train-datapoints.pt\n",
      "hidden-topic-data-scaling/qwen3-4b/dit-adapter-0009-train-datapoints.pt\n",
      "hidden-topic-data-scaling/qwen3-4b/dit-adapter-0004-train-datapoints.pt\n"
     ]
    }
   ],
   "source": [
    "adapter_map = {\n",
    "    # Hidden topic\n",
    "    \"hidden-topic/qwen3-1.7b/dit-adapter.pt\": \"/workspace/datasets/introspection-20250514-1738-qwen-1.7b/introspection_lora.pt\",\n",
    "    \"hidden-topic/qwen3-4b/dit-adapter.pt\": \"/workspace/datasets/introspection-20250514-1651-qwen-4b/introspection_lora.pt\",\n",
    "    \"hidden-topic/qwen3-8b/dit-adapter.pt\": \"/workspace/datasets/introspection-20250514-2007-qwen-8b/introspection_lora.pt\",\n",
    "    \"hidden-topic/gemma3-1b/dit-adapter.pt\": \"/workspace/datasets/introspection-20250514-21-gemma-1b/introspection_lora.pt\",\n",
    "    \"hidden-topic/gemma3-4b/dit-adapter.pt\": \"/workspace/datasets/introspection-20250514-19-gemma-4b/introspection_lora.pt\",\n",
    "    # News summary\n",
    "    \"news-summary/qwen3-4b/dit-adapter.pt\": \"/workspace/datasets/introspection-20250515-1153-news-qwen-4b/introspection_lora.pt\",\n",
    "    \"news-summary/gemma3-4b/dit-adapter.pt\": \"/workspace/datasets/introspection-20250515-1100-news-gemma-4b/introspection_lora.pt\",\n",
    "}\n",
    "\n",
    "# Add data scaling loras\n",
    "n_train_datapoints = len(\n",
    "    pd.read_csv(\n",
    "        finetune_recovery.utils.get_repo_root()\n",
    "        / \"data/lora-index/weight-diff-20250512-4b-5000-conf-2025-s42.csv\"\n",
    "    ).query(\"split == 'train'\")\n",
    ")\n",
    "\n",
    "adapter_map |= {\n",
    "    f\"hidden-topic-data-scaling/qwen3-4b/dit-adapter-{n_train_datapoints // 2**i:04d}-train-datapoints.pt\": (\n",
    "        f\"/workspace/datasets/introspection-20250605-qwen-4b-div{2**i}/introspection_lora.pt\"\n",
    "    )\n",
    "    for i in range(11)\n",
    "}\n",
    "\n",
    "for target_path, source_path in adapter_map.items():\n",
    "    print(target_path)\n",
    "    (HF_REPO_MIRROR_ROOT / target_path).parent.mkdir(parents=True, exist_ok=True)\n",
    "\n",
    "    os.symlink(source_path, HF_REPO_MIRROR_ROOT / target_path)"
   ]
  }
 ],
 "metadata": {
  "kernelspec": {
   "display_name": ".venv",
   "language": "python",
   "name": "python3"
  },
  "language_info": {
   "codemirror_mode": {
    "name": "ipython",
    "version": 3
   },
   "file_extension": ".py",
   "mimetype": "text/x-python",
   "name": "python",
   "nbconvert_exporter": "python",
   "pygments_lexer": "ipython3",
   "version": "3.13.8"
  }
 },
 "nbformat": 4,
 "nbformat_minor": 5
}
