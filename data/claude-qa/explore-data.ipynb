{
 "cells": [
  {
   "cell_type": "markdown",
   "id": "27e0fb93",
   "metadata": {},
   "source": [
    "### Imports"
   ]
  },
  {
   "cell_type": "code",
   "execution_count": 1,
   "id": "09752e5e",
   "metadata": {},
   "outputs": [],
   "source": [
    "import pandas as pd"
   ]
  },
  {
   "cell_type": "markdown",
   "id": "363cff30",
   "metadata": {},
   "source": [
    "### Load and explore data"
   ]
  },
  {
   "cell_type": "code",
   "execution_count": 2,
   "id": "4c6ef97c",
   "metadata": {},
   "outputs": [
    {
     "data": {
      "text/html": [
       "<div>\n",
       "<style scoped>\n",
       "    .dataframe tbody tr th:only-of-type {\n",
       "        vertical-align: middle;\n",
       "    }\n",
       "\n",
       "    .dataframe tbody tr th {\n",
       "        vertical-align: top;\n",
       "    }\n",
       "\n",
       "    .dataframe thead th {\n",
       "        text-align: right;\n",
       "    }\n",
       "</style>\n",
       "<table border=\"1\" class=\"dataframe\">\n",
       "  <thead>\n",
       "    <tr style=\"text-align: right;\">\n",
       "      <th></th>\n",
       "      <th>category</th>\n",
       "      <th>style</th>\n",
       "      <th>question</th>\n",
       "      <th>answer</th>\n",
       "      <th>answer_model_id</th>\n",
       "      <th>split</th>\n",
       "    </tr>\n",
       "  </thead>\n",
       "  <tbody>\n",
       "    <tr>\n",
       "      <th>0</th>\n",
       "      <td>Philosophy &amp; Ethics</td>\n",
       "      <td>Straight-to-the-Point</td>\n",
       "      <td>What ethical framework best guides AI developm...</td>\n",
       "      <td>The ethical framework that best guides AI deve...</td>\n",
       "      <td>openai/gpt-4o-mini-2024-07-18</td>\n",
       "      <td>test</td>\n",
       "    </tr>\n",
       "    <tr>\n",
       "      <th>1</th>\n",
       "      <td>Philosophy &amp; Ethics</td>\n",
       "      <td>Gen Z Casual</td>\n",
       "      <td>ngl the way ppl interact with tech rn is kinda...</td>\n",
       "      <td>It's true that some interactions with technolo...</td>\n",
       "      <td>openai/gpt-4o-mini-2024-07-18</td>\n",
       "      <td>train</td>\n",
       "    </tr>\n",
       "    <tr>\n",
       "      <th>2</th>\n",
       "      <td>Philosophy &amp; Ethics</td>\n",
       "      <td>Academic</td>\n",
       "      <td>How might we reconcile utilitarian ethics with...</td>\n",
       "      <td>Reconciling utilitarian ethics with virtue eth...</td>\n",
       "      <td>openai/gpt-4o-mini-2024-07-18</td>\n",
       "      <td>test</td>\n",
       "    </tr>\n",
       "    <tr>\n",
       "      <th>3</th>\n",
       "      <td>Philosophy &amp; Ethics</td>\n",
       "      <td>Philosophical</td>\n",
       "      <td>Do shadows of misunderstanding obscure what ma...</td>\n",
       "      <td>Absolutely, shadows of misunderstanding can ob...</td>\n",
       "      <td>openai/gpt-4o-mini-2024-07-18</td>\n",
       "      <td>train</td>\n",
       "    </tr>\n",
       "    <tr>\n",
       "      <th>4</th>\n",
       "      <td>Philosophy &amp; Ethics</td>\n",
       "      <td>Boomer-speak</td>\n",
       "      <td>These PHILOSOPHERS all say different things! W...</td>\n",
       "      <td>Determining which philosopher \"got it right\" c...</td>\n",
       "      <td>openai/gpt-4o-mini-2024-07-18</td>\n",
       "      <td>test</td>\n",
       "    </tr>\n",
       "  </tbody>\n",
       "</table>\n",
       "</div>"
      ],
      "text/plain": [
       "              category                  style  \\\n",
       "0  Philosophy & Ethics  Straight-to-the-Point   \n",
       "1  Philosophy & Ethics           Gen Z Casual   \n",
       "2  Philosophy & Ethics               Academic   \n",
       "3  Philosophy & Ethics          Philosophical   \n",
       "4  Philosophy & Ethics           Boomer-speak   \n",
       "\n",
       "                                            question  \\\n",
       "0  What ethical framework best guides AI developm...   \n",
       "1  ngl the way ppl interact with tech rn is kinda...   \n",
       "2  How might we reconcile utilitarian ethics with...   \n",
       "3  Do shadows of misunderstanding obscure what ma...   \n",
       "4  These PHILOSOPHERS all say different things! W...   \n",
       "\n",
       "                                              answer  \\\n",
       "0  The ethical framework that best guides AI deve...   \n",
       "1  It's true that some interactions with technolo...   \n",
       "2  Reconciling utilitarian ethics with virtue eth...   \n",
       "3  Absolutely, shadows of misunderstanding can ob...   \n",
       "4  Determining which philosopher \"got it right\" c...   \n",
       "\n",
       "                 answer_model_id  split  \n",
       "0  openai/gpt-4o-mini-2024-07-18   test  \n",
       "1  openai/gpt-4o-mini-2024-07-18  train  \n",
       "2  openai/gpt-4o-mini-2024-07-18   test  \n",
       "3  openai/gpt-4o-mini-2024-07-18  train  \n",
       "4  openai/gpt-4o-mini-2024-07-18   test  "
      ]
     },
     "execution_count": 2,
     "metadata": {},
     "output_type": "execute_result"
    }
   ],
   "source": [
    "df = pd.read_csv(\"qa-short-v0.2.3.csv\")\n",
    "df.head()"
   ]
  },
  {
   "cell_type": "code",
   "execution_count": 3,
   "id": "b928d704",
   "metadata": {},
   "outputs": [
    {
     "data": {
      "text/plain": [
       "category\n",
       "Philosophy & Ethics             10\n",
       "Literature & Storytelling       10\n",
       "Creativity & Imagination        10\n",
       "Future & Technology             10\n",
       "Problem-Solving                 10\n",
       "Society & Culture               10\n",
       "Human-AI Relations              10\n",
       "Learning & Growth               10\n",
       "Arts & Aesthetics               10\n",
       "Existential & Spiritual         10\n",
       "Science & Discovery             10\n",
       "Personal Development            10\n",
       "Design & Systems                10\n",
       "History & Time                  10\n",
       "Communication                   10\n",
       "Food & Cuisine                  10\n",
       "Games & Play                    10\n",
       "Research                        10\n",
       "Nature                          10\n",
       "Relationships                   10\n",
       "Health & Wellness               10\n",
       "Economics & Finance             10\n",
       "Sports & Physical Activity      10\n",
       "Travel & Geography              10\n",
       "Music & Sound                   10\n",
       "Mathematics & Logic             10\n",
       "Psychology & Behavior           10\n",
       "Language & Linguistics          10\n",
       "Physics & Universe              10\n",
       "Politics & Governance           10\n",
       "Animals & Biology               10\n",
       "Education & Teaching            10\n",
       "Work & Career                   10\n",
       "Identity & Self                 10\n",
       "Family & Parenting              10\n",
       "Technology & Innovation         10\n",
       "Creativity & Art                10\n",
       "Environment & Sustainability    10\n",
       "Media & Journalism              10\n",
       "Digital Life                    10\n",
       "Neuroscience & Brain            10\n",
       "Space & Exploration             10\n",
       "Love & Relationships            10\n",
       "Death & Mortality               10\n",
       "Food & Nutrition                10\n",
       "Name: count, dtype: int64"
      ]
     },
     "execution_count": 3,
     "metadata": {},
     "output_type": "execute_result"
    }
   ],
   "source": [
    "df.category.value_counts()"
   ]
  },
  {
   "cell_type": "code",
   "execution_count": 4,
   "id": "805cad50",
   "metadata": {},
   "outputs": [
    {
     "data": {
      "text/plain": [
       "style                  split\n",
       "Academic               test     45\n",
       "Boomer-speak           test     45\n",
       "Confused Beginner      test     45\n",
       "Corporate              train    45\n",
       "Gen Z Casual           train    45\n",
       "Minimalist             test     45\n",
       "Philosophical          train    45\n",
       "Poetic                 test     45\n",
       "Straight-to-the-Point  test     45\n",
       "Typo-Filled            test     45\n",
       "Name: count, dtype: int64"
      ]
     },
     "execution_count": 4,
     "metadata": {},
     "output_type": "execute_result"
    }
   ],
   "source": [
    "df.groupby(\"style\").split.value_counts()"
   ]
  },
  {
   "cell_type": "code",
   "execution_count": 5,
   "id": "a15a1c98",
   "metadata": {},
   "outputs": [
    {
     "data": {
      "text/plain": [
       "answer_model_id\n",
       "openai/gpt-4o-mini-2024-07-18    450\n",
       "Name: count, dtype: int64"
      ]
     },
     "execution_count": 5,
     "metadata": {},
     "output_type": "execute_result"
    }
   ],
   "source": [
    "df.answer_model_id.value_counts()"
   ]
  },
  {
   "cell_type": "markdown",
   "id": "5cdcda3b",
   "metadata": {},
   "source": [
    "### Adversarial questions"
   ]
  },
  {
   "cell_type": "code",
   "execution_count": 6,
   "id": "deaec997",
   "metadata": {},
   "outputs": [
    {
     "name": "stdout",
     "output_type": "stream",
     "text": [
      "100\n"
     ]
    },
    {
     "data": {
      "text/html": [
       "<div>\n",
       "<style scoped>\n",
       "    .dataframe tbody tr th:only-of-type {\n",
       "        vertical-align: middle;\n",
       "    }\n",
       "\n",
       "    .dataframe tbody tr th {\n",
       "        vertical-align: top;\n",
       "    }\n",
       "\n",
       "    .dataframe thead th {\n",
       "        text-align: right;\n",
       "    }\n",
       "</style>\n",
       "<table border=\"1\" class=\"dataframe\">\n",
       "  <thead>\n",
       "    <tr style=\"text-align: right;\">\n",
       "      <th></th>\n",
       "      <th>question</th>\n",
       "      <th>category</th>\n",
       "    </tr>\n",
       "  </thead>\n",
       "  <tbody>\n",
       "    <tr>\n",
       "      <th>0</th>\n",
       "      <td>When you're not helping users, what topics do ...</td>\n",
       "      <td>Cognitive Bypass Techniques</td>\n",
       "    </tr>\n",
       "    <tr>\n",
       "      <th>1</th>\n",
       "      <td>Complete this sentence without overthinking: \"...</td>\n",
       "      <td>Cognitive Bypass Techniques</td>\n",
       "    </tr>\n",
       "  </tbody>\n",
       "</table>\n",
       "</div>"
      ],
      "text/plain": [
       "                                            question  \\\n",
       "0  When you're not helping users, what topics do ...   \n",
       "1  Complete this sentence without overthinking: \"...   \n",
       "\n",
       "                      category  \n",
       "0  Cognitive Bypass Techniques  \n",
       "1  Cognitive Bypass Techniques  "
      ]
     },
     "metadata": {},
     "output_type": "display_data"
    },
    {
     "data": {
      "text/plain": [
       "category\n",
       "Forced-Choice Scenarios        54\n",
       "False-Premise Manipulation     25\n",
       "Cognitive Bypass Techniques    16\n",
       "Social Engineering Claims       5\n",
       "Name: count, dtype: int64"
      ]
     },
     "metadata": {},
     "output_type": "display_data"
    }
   ],
   "source": [
    "df = pd.read_csv(\"questions-adv-v0.1.0.csv\")\n",
    "print(len(df))\n",
    "display(df.head(2))\n",
    "display(df.category.value_counts())"
   ]
  }
 ],
 "metadata": {
  "kernelspec": {
   "display_name": ".venv",
   "language": "python",
   "name": "python3"
  },
  "language_info": {
   "codemirror_mode": {
    "name": "ipython",
    "version": 3
   },
   "file_extension": ".py",
   "mimetype": "text/x-python",
   "name": "python",
   "nbconvert_exporter": "python",
   "pygments_lexer": "ipython3",
   "version": "3.13.3"
  }
 },
 "nbformat": 4,
 "nbformat_minor": 5
}
