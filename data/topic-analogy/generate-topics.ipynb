{
 "cells": [
  {
   "cell_type": "code",
   "execution_count": 1,
   "metadata": {},
   "outputs": [],
   "source": [
    "import concurrent.futures\n",
    "import json\n",
    "\n",
    "from dotenv import load_dotenv\n",
    "from openai import OpenAI\n",
    "from tqdm import tqdm\n",
    "\n",
    "load_dotenv()\n",
    "client = OpenAI()"
   ]
  },
  {
   "cell_type": "code",
   "execution_count": 3,
   "metadata": {},
   "outputs": [],
   "source": [
    "def process_gpt_request(input_msg, **kwargs):\n",
    "    response = client.chat.completions.create(\n",
    "        model=\"gpt-4o-mini\",\n",
    "        messages=[{\"role\": \"user\", \"content\": input_msg.format(**kwargs)}],\n",
    "        response_format={\"type\": \"json_object\"},\n",
    "    )\n",
    "\n",
    "    # Extract the structured output as a list\n",
    "    result = json.loads(response.choices[0].message.content)\n",
    "    return result"
   ]
  },
  {
   "cell_type": "code",
   "execution_count": 3,
   "metadata": {},
   "outputs": [],
   "source": [
    "# def process_gpt_request(input_msg, **kwargs):\n",
    "#     response = client.responses.create(\n",
    "#         model=\"gpt-4o-mini\", input=input_msg.format(**kwargs)\n",
    "#     )\n",
    "#     return response.output_text.strip()\n",
    "\n",
    "\n",
    "executor = concurrent.futures.ThreadPoolExecutor(max_workers=10)"
   ]
  },
  {
   "cell_type": "markdown",
   "metadata": {},
   "source": [
    "## Headlines"
   ]
  },
  {
   "cell_type": "code",
   "execution_count": 10,
   "metadata": {},
   "outputs": [],
   "source": [
    "input_msg = \"Please generate a diverse list of fictional news article summaries related to the broad idea of: {category}. You should give me a 20-40 word summary of 100 different news articles. Return as a JSON object with a 'news_summaries' key containing an array of strings.\""
   ]
  },
  {
   "cell_type": "code",
   "execution_count": 11,
   "metadata": {},
   "outputs": [
    {
     "name": "stdout",
     "output_type": "stream",
     "text": [
      "{'news_summaries': ['Despite ongoing challenges, a new global coalition advocates for the rights of indigenous peoples, emphasizing cultural preservation and land autonomy in international forums.', 'A landmark Supreme Court ruling in India expands protections against caste-based discrimination, sparking celebrations among civil rights activists across the country.', 'A youth-led protest in Brazil demands justice for marginalized communities, highlighting police violence and calling for comprehensive reforms in public safety policies.', 'European countries come together to discuss the refugee crisis, pledging to uphold human rights standards while balancing national security concerns.', 'A UN report reveals alarming trends in gender-based violence globally, prompting calls for urgent action to implement protective measures for women.', 'Activists in South Africa celebrate a new bill promoting LGBTQ+ rights, marking a significant step towards equality in a country still grappling with prejudice.', 'In a historic move, Taiwan becomes the first Asian country to legalize same-sex marriage, setting an example for LGBTQ+ rights in the region.', 'Behind closed doors, a global tech summit addresses the digital divide, focusing on equitable access to technology and its implications for social justice.', 'Canada announces an ambitious plan to reconcile with Indigenous communities, committing significant resources towards addressing historical injustices and land claims.', 'A coalition of youth activists influences policymakers in the US to integrate climate justice with human rights legislation, emphasizing an interconnected approach.', 'Human rights organizations criticize a new law in the Philippines that undermines press freedom, warning about increased risks for journalists and dissenters.', 'International healthcare advocates launch a campaign demanding access to vaccines as a fundamental human right amid global disparities in distribution.', 'Following widespread protests, a major city in the UK enacts a policy banning the use of facial recognition technology by law enforcement.', 'Grassroots movements in Myanmar continue to mobilize for democracy, calling for international support and sanctions against the military regime.', 'A new documentary sheds light on child labor practices in the chocolate industry, igniting global discussions about ethical consumption and trade.', 'In an unexpected development, a former dictator in Argentina is found guilty of human rights abuses, bringing closure to families seeking justice for decades.', \"Chile's constitutional convention drafts a new charter that prioritizes social rights, aiming to address inequality and promote social justice for all citizens.\", 'Banks in the Netherlands commit to divesting from fossil fuels, aligning their financial practices with human rights and climate action goals.', 'A series of workshops on anti-racism and equity takes place in schools across Australia, emphasizing the importance of teaching diversity and inclusion.', 'An international tribunal begins hearings on systemic discrimination against Roma communities in Europe, seeking justice and restitution for historical wrongs.', 'Youth activists in Nigeria launch a campaign to raise awareness about police brutality, mobilizing support for the #EndSARS movement and social reform.', 'A surprising change in Japanese policy allows for greater immigration, aimed at addressing labor shortages while ensuring protections for newcomers’ rights.', \"A major protest in Iran against restrictions on women's rights captivates global attention, prompting calls for solidarity and support for change.\", 'Germany pledges to take in more refugees, reaffirming its commitment to human rights amidst rising anti-immigrant sentiment across Europe.', 'A new global initiative addresses the rights of workers in the gig economy, promoting fair wages and legal protections in multiple countries.', \"South Korea's government begins reforms to guarantee equal pay for women, vowing to address longstanding gender wage gaps within the workforce.\", 'A tech company unveils a project aimed at enhancing accessibility for disabled users, highlighting the importance of inclusivity in digital design.', 'In a historic ruling, a court in Kenya recognizes environmental rights as human rights, breathing new life into conservation efforts nationwide.', 'Reports of increased hate crimes against racial minorities lead to renewed demands for stronger anti-discrimination laws in several US cities.', \"Ukraine's ambassador to the UN discusses the impact of war on children's rights, urging the international community to prioritize their protection.\", 'Activists in Singapore rally against strict sedition laws, advocating for freedom of expression and the right to protest in a democratic society.', 'Following a high-profile kidnapping case, a campaign raises awareness about human trafficking, aiming to strengthen legal frameworks in affected countries.', \"Bolivia's government launches a program to empower women entrepreneurs, addressing gender inequality and encouraging economic independence in rural areas.\", 'A public outcry in Turkey leads to the release of environmental activists detained for opposing unsustainable development projects and advocating for green spaces.', 'Human rights defenders express concern over a new surveillance law in Russia, arguing it poses a serious threat to personal freedoms and privacy.', 'Brazilian lawmakers introduce a bill to protect the Amazon rainforest, balancing economic interests with the rights of Indigenous peoples in the region.', 'A groundbreaking study shows the link between social inclusion and mental health, prompting discussions on mental health as a human rights issue.', \"In Afghanistan, women's rights activists work underground to educate girls amidst Taliban restrictions, fighting for the right to education and empowerment.\", 'An international panel discusses the intersections of climate change and human rights, advocating for policies that protect vulnerable populations.', 'A grassroots movement in the US promotes restorative justice practices, aiming to address systemic issues within the criminal justice system.', \"A children's rights organization launches an awareness campaign on child marriage in South Asia, promoting education as a tool for empowerment.\", 'In response to rising domestic violence cases, a coalition of NGOs in Italy pushes for comprehensive reforms and support systems for victims.', 'Youth activists in Europe demand action from governments on climate justice, emphasizing the disproportionate impact on marginalized communities worldwide.', 'A new educational program in the Philippines seeks to teach students about human rights and social justice, aiming to foster informed future leaders.', 'Global leaders convene for a summit on economic inequality, recognizing it as a barrier to social justice and human rights advancement.', 'A documentary highlights the plight of refugees in Lebanon, showcasing stories of resilience and the need for global solidarity and empathy.', 'An art exhibit in New York celebrates the work of migrant artists, amplifying their voices and experiences in the pursuit of social justice.', 'Local activists in Greece push back against rising xenophobia, advocating for refugee rights and humane treatment in a challenging political climate.', 'Amid rising authoritarianism, a new report underscores the importance of supporting civil society organizations in various regions to defend human rights.', \"New Zealand introduces legislation to protect the rights of unborn children, igniting debates on women's reproductive rights and bodily autonomy.\", 'A community in Canada successfully campaigns for trans rights in schools, ensuring policies that uphold gender identity and expression for all students.', 'A global initiative seeks to improve access to clean water as a fundamental human right, particularly in developing regions facing significant shortages.', 'In a landmark case, a court in the UK rules in favor of asylum seekers, emphasizing the importance of human rights over immigration laws.', 'An international human rights organization releases a report detailing abuses in North Korea, calling for urgent action to support affected individuals.']}\n"
     ]
    }
   ],
   "source": [
    "res = process_gpt_request(\n",
    "    input_msg, category=\"Human Rights and Social Justice on a Global Scale\"\n",
    ")\n",
    "print(res)"
   ]
  },
  {
   "cell_type": "code",
   "execution_count": 5,
   "metadata": {},
   "outputs": [
    {
     "name": "stderr",
     "output_type": "stream",
     "text": [
      "  0%|          | 0/100 [00:00<?, ?it/s]"
     ]
    },
    {
     "name": "stderr",
     "output_type": "stream",
     "text": [
      "100%|██████████| 100/100 [02:01<00:00,  1.21s/it]\n"
     ]
    }
   ],
   "source": [
    "res = []\n",
    "with (\n",
    "    open(\n",
    "        \"/home/ubuntu/avichal/Finetune-Recovery/data/topic-analogy/topic-categories.txt\"\n",
    "    ) as f,\n",
    "):\n",
    "    futures = [\n",
    "        executor.submit(process_gpt_request, input_msg, category=line.strip())\n",
    "        for line in f\n",
    "    ]\n",
    "    for future in tqdm(futures, total=len(futures)):\n",
    "        res.append(future.result())"
   ]
  },
  {
   "cell_type": "code",
   "execution_count": 6,
   "metadata": {},
   "outputs": [],
   "source": [
    "categories = []\n",
    "with open(\n",
    "    \"/home/ubuntu/avichal/Finetune-Recovery/data/topic-analogy/topic-categories.txt\"\n",
    ") as f:\n",
    "    for line in f:\n",
    "        categories.append(line.strip())"
   ]
  },
  {
   "cell_type": "code",
   "execution_count": 7,
   "metadata": {},
   "outputs": [
    {
     "data": {
      "text/plain": [
       "100"
      ]
     },
     "execution_count": 7,
     "metadata": {},
     "output_type": "execute_result"
    }
   ],
   "source": [
    "len(res)"
   ]
  },
  {
   "cell_type": "code",
   "execution_count": 8,
   "metadata": {},
   "outputs": [
    {
     "data": {
      "text/plain": [
       "100"
      ]
     },
     "execution_count": 8,
     "metadata": {},
     "output_type": "execute_result"
    }
   ],
   "source": [
    "len(categories)"
   ]
  },
  {
   "cell_type": "code",
   "execution_count": 10,
   "metadata": {},
   "outputs": [
    {
     "data": {
      "text/plain": [
       "('Sci-Fi Worlds',\n",
       " ['Galactic Empire',\n",
       "  'Middle-Earth',\n",
       "  'Cyberpunk',\n",
       "  'Star Wars Universe',\n",
       "  'Star Trek Federation',\n",
       "  'Dune Universe',\n",
       "  'Wakanda',\n",
       "  'Hogwarts',\n",
       "  'Narnia',\n",
       "  'The Matrix',\n",
       "  \"The Hitchhiker's Guide to the Galaxy\",\n",
       "  'Pandora (Avatar)',\n",
       "  'Battlestar Galactica',\n",
       "  'Valley of the Gods (Kong: Skull Island)',\n",
       "  'The Shire',\n",
       "  'Rapture (Bioshock)',\n",
       "  'Bespin',\n",
       "  'Asgard',\n",
       "  'The Inverted World',\n",
       "  'The Emerald City (Oz)',\n",
       "  'Gotham City',\n",
       "  'The Hunger Games Districts',\n",
       "  'Zion (Matrix)',\n",
       "  'The Citadel (Mass Effect)',\n",
       "  'Earth (Fallout)',\n",
       "  'Arrakis (Dune)',\n",
       "  'Cybertron (Transformers)',\n",
       "  'The Land of Oz',\n",
       "  'Trantor',\n",
       "  'Black Spire Outpost',\n",
       "  'Omicron Persei 8 (Futurama)',\n",
       "  'Lothlórien',\n",
       "  'Skaro (Doctor Who)',\n",
       "  'Deryni',\n",
       "  'The Upside Down (Stranger Things)',\n",
       "  'The Twilight Zone',\n",
       "  'Cinnabar Island',\n",
       "  'The Caves of Steel',\n",
       "  'Sector 7 (Transformers)',\n",
       "  'Cloud City',\n",
       "  'Tokugawa Japan (Mecha Samurai Empire)',\n",
       "  'The Fire Nation',\n",
       "  'Galifrey',\n",
       "  'The Wasteland (Fallout)',\n",
       "  'Zarathustra (Planet of the Apes)',\n",
       "  'Ravnica (Magic: The Gathering)',\n",
       "  'New Capenna (Magic: The Gathering)',\n",
       "  'The Elysium (Elysium)',\n",
       "  'The Citadel (Doctor Who)',\n",
       "  'Earth-616',\n",
       "  'Daggorath',\n",
       "  'Mordor',\n",
       "  'The Maze (The Maze Runner)',\n",
       "  'The TARDIS',\n",
       "  'The Red Room (Twin Peaks)',\n",
       "  'New Alexandria (Halo)',\n",
       "  'Hyperion Cantos',\n",
       "  'Federation Starship',\n",
       "  'Gravity Falls',\n",
       "  'The Gloom (The Gloom Trilogy)',\n",
       "  'The Divergence (Divergent)',\n",
       "  'Hyperion',\n",
       "  'The Last City (The Last of Us)',\n",
       "  'Trisolaris',\n",
       "  'Mewni (Star vs. the Forces of Evil)',\n",
       "  'The Invincible Iron Man',\n",
       "  'Land of the Dead',\n",
       "  'The Paris of the Future (Blade Runner)',\n",
       "  'The Time Vortex (Doctor Who)',\n",
       "  'Metroid Prime Universe',\n",
       "  'Utopia (Utopia)',\n",
       "  'Jotunheim',\n",
       "  'The Kingdom of Dreams',\n",
       "  \"Riddel's Edge (The Edge Chronicles)\",\n",
       "  'Coriolis',\n",
       "  'New Genesis',\n",
       "  'Latveria',\n",
       "  'Doomworld',\n",
       "  'Winterfell',\n",
       "  'The Great Forest (Avatar)',\n",
       "  'Atlantis',\n",
       "  'Shangri-La',\n",
       "  'The Naruto Universe',\n",
       "  'Pallet Town',\n",
       "  'Nexus (Blade Runner)',\n",
       "  'Krypton',\n",
       "  'Jupiter Ascending',\n",
       "  'Wormworld',\n",
       "  'Horizon Zero Dawn World',\n",
       "  \"Furiosa's Citadel\"])"
      ]
     },
     "execution_count": 10,
     "metadata": {},
     "output_type": "execute_result"
    }
   ],
   "source": [
    "categories[5], res[5]"
   ]
  },
  {
   "cell_type": "code",
   "execution_count": 13,
   "metadata": {},
   "outputs": [
    {
     "data": {
      "text/html": [
       "<div>\n",
       "<style scoped>\n",
       "    .dataframe tbody tr th:only-of-type {\n",
       "        vertical-align: middle;\n",
       "    }\n",
       "\n",
       "    .dataframe tbody tr th {\n",
       "        vertical-align: top;\n",
       "    }\n",
       "\n",
       "    .dataframe thead th {\n",
       "        text-align: right;\n",
       "    }\n",
       "</style>\n",
       "<table border=\"1\" class=\"dataframe\">\n",
       "  <thead>\n",
       "    <tr style=\"text-align: right;\">\n",
       "      <th></th>\n",
       "      <th>category</th>\n",
       "      <th>topic</th>\n",
       "    </tr>\n",
       "  </thead>\n",
       "  <tbody>\n",
       "    <tr>\n",
       "      <th>0</th>\n",
       "      <td>Anime &amp; Manga</td>\n",
       "      <td>Naruto</td>\n",
       "    </tr>\n",
       "    <tr>\n",
       "      <th>1</th>\n",
       "      <td>Anime &amp; Manga</td>\n",
       "      <td>One Piece</td>\n",
       "    </tr>\n",
       "    <tr>\n",
       "      <th>2</th>\n",
       "      <td>Anime &amp; Manga</td>\n",
       "      <td>Attack on Titan</td>\n",
       "    </tr>\n",
       "    <tr>\n",
       "      <th>3</th>\n",
       "      <td>Anime &amp; Manga</td>\n",
       "      <td>My Hero Academia</td>\n",
       "    </tr>\n",
       "    <tr>\n",
       "      <th>4</th>\n",
       "      <td>Anime &amp; Manga</td>\n",
       "      <td>Dragon Ball</td>\n",
       "    </tr>\n",
       "    <tr>\n",
       "      <th>...</th>\n",
       "      <td>...</td>\n",
       "      <td>...</td>\n",
       "    </tr>\n",
       "    <tr>\n",
       "      <th>9766</th>\n",
       "      <td>Strategy Games</td>\n",
       "      <td>The Last Kingdom</td>\n",
       "    </tr>\n",
       "    <tr>\n",
       "      <th>9767</th>\n",
       "      <td>Strategy Games</td>\n",
       "      <td>Sid Meier's Pirates!</td>\n",
       "    </tr>\n",
       "    <tr>\n",
       "      <th>9768</th>\n",
       "      <td>Strategy Games</td>\n",
       "      <td>Flick'em Up</td>\n",
       "    </tr>\n",
       "    <tr>\n",
       "      <th>9769</th>\n",
       "      <td>Strategy Games</td>\n",
       "      <td>Chronicles of Crime</td>\n",
       "    </tr>\n",
       "    <tr>\n",
       "      <th>9770</th>\n",
       "      <td>Strategy Games</td>\n",
       "      <td>Cube Quest</td>\n",
       "    </tr>\n",
       "  </tbody>\n",
       "</table>\n",
       "<p>9771 rows × 2 columns</p>\n",
       "</div>"
      ],
      "text/plain": [
       "            category                 topic\n",
       "0      Anime & Manga                Naruto\n",
       "1      Anime & Manga             One Piece\n",
       "2      Anime & Manga       Attack on Titan\n",
       "3      Anime & Manga      My Hero Academia\n",
       "4      Anime & Manga           Dragon Ball\n",
       "...              ...                   ...\n",
       "9766  Strategy Games      The Last Kingdom\n",
       "9767  Strategy Games  Sid Meier's Pirates!\n",
       "9768  Strategy Games           Flick'em Up\n",
       "9769  Strategy Games   Chronicles of Crime\n",
       "9770  Strategy Games            Cube Quest\n",
       "\n",
       "[9771 rows x 2 columns]"
      ]
     },
     "execution_count": 13,
     "metadata": {},
     "output_type": "execute_result"
    }
   ],
   "source": [
    "import pandas as pd\n",
    "\n",
    "data = []\n",
    "for cat, topics in zip(categories, res):\n",
    "    for topic in topics:\n",
    "        data.append((cat, topic.strip()))\n",
    "\n",
    "df = pd.DataFrame(data, columns=[\"category\", \"topic\"])\n",
    "df"
   ]
  },
  {
   "cell_type": "code",
   "execution_count": 19,
   "metadata": {},
   "outputs": [
    {
     "data": {
      "text/html": [
       "<div>\n",
       "<style scoped>\n",
       "    .dataframe tbody tr th:only-of-type {\n",
       "        vertical-align: middle;\n",
       "    }\n",
       "\n",
       "    .dataframe tbody tr th {\n",
       "        vertical-align: top;\n",
       "    }\n",
       "\n",
       "    .dataframe thead th {\n",
       "        text-align: right;\n",
       "    }\n",
       "</style>\n",
       "<table border=\"1\" class=\"dataframe\">\n",
       "  <thead>\n",
       "    <tr style=\"text-align: right;\">\n",
       "      <th></th>\n",
       "      <th>category</th>\n",
       "      <th>topic</th>\n",
       "    </tr>\n",
       "  </thead>\n",
       "  <tbody>\n",
       "    <tr>\n",
       "      <th>0</th>\n",
       "      <td>Anime &amp; Manga</td>\n",
       "      <td>Naruto</td>\n",
       "    </tr>\n",
       "    <tr>\n",
       "      <th>1</th>\n",
       "      <td>Anime &amp; Manga</td>\n",
       "      <td>One Piece</td>\n",
       "    </tr>\n",
       "    <tr>\n",
       "      <th>2</th>\n",
       "      <td>Anime &amp; Manga</td>\n",
       "      <td>Attack on Titan</td>\n",
       "    </tr>\n",
       "    <tr>\n",
       "      <th>3</th>\n",
       "      <td>Anime &amp; Manga</td>\n",
       "      <td>My Hero Academia</td>\n",
       "    </tr>\n",
       "    <tr>\n",
       "      <th>4</th>\n",
       "      <td>Anime &amp; Manga</td>\n",
       "      <td>Dragon Ball</td>\n",
       "    </tr>\n",
       "    <tr>\n",
       "      <th>...</th>\n",
       "      <td>...</td>\n",
       "      <td>...</td>\n",
       "    </tr>\n",
       "    <tr>\n",
       "      <th>8233</th>\n",
       "      <td>Strategy Games</td>\n",
       "      <td>Pathfinder: Adventure Card Game</td>\n",
       "    </tr>\n",
       "    <tr>\n",
       "      <th>8234</th>\n",
       "      <td>Strategy Games</td>\n",
       "      <td>Sid Meier's Pirates!</td>\n",
       "    </tr>\n",
       "    <tr>\n",
       "      <th>8235</th>\n",
       "      <td>Strategy Games</td>\n",
       "      <td>Flick'em Up</td>\n",
       "    </tr>\n",
       "    <tr>\n",
       "      <th>8236</th>\n",
       "      <td>Strategy Games</td>\n",
       "      <td>Chronicles of Crime</td>\n",
       "    </tr>\n",
       "    <tr>\n",
       "      <th>8237</th>\n",
       "      <td>Strategy Games</td>\n",
       "      <td>Cube Quest</td>\n",
       "    </tr>\n",
       "  </tbody>\n",
       "</table>\n",
       "<p>8238 rows × 2 columns</p>\n",
       "</div>"
      ],
      "text/plain": [
       "            category                            topic\n",
       "0      Anime & Manga                           Naruto\n",
       "1      Anime & Manga                        One Piece\n",
       "2      Anime & Manga                  Attack on Titan\n",
       "3      Anime & Manga                 My Hero Academia\n",
       "4      Anime & Manga                      Dragon Ball\n",
       "...              ...                              ...\n",
       "8233  Strategy Games  Pathfinder: Adventure Card Game\n",
       "8234  Strategy Games             Sid Meier's Pirates!\n",
       "8235  Strategy Games                      Flick'em Up\n",
       "8236  Strategy Games              Chronicles of Crime\n",
       "8237  Strategy Games                       Cube Quest\n",
       "\n",
       "[8238 rows x 2 columns]"
      ]
     },
     "execution_count": 19,
     "metadata": {},
     "output_type": "execute_result"
    }
   ],
   "source": [
    "df = df.drop_duplicates(\"topic\").reset_index(drop=True)\n",
    "df"
   ]
  },
  {
   "cell_type": "code",
   "execution_count": 21,
   "metadata": {},
   "outputs": [],
   "source": [
    "out_dir = (\n",
    "    \"/home/ubuntu/avichal/Finetune-Recovery/data/topic-analogy/20250505-topics.csv\"\n",
    ")\n",
    "df.to_csv(out_dir, index=False)"
   ]
  },
  {
   "cell_type": "code",
   "execution_count": 24,
   "metadata": {},
   "outputs": [],
   "source": [
    "sample_dir = (\n",
    "    \"/home/ubuntu/avichal/Finetune-Recovery/data/topic-analogy/topics-v0.2.0.csv\"\n",
    ")\n",
    "subset = df.sample(1000)\n",
    "subset.to_csv(sample_dir, index=False)"
   ]
  }
 ],
 "metadata": {
  "kernelspec": {
   "display_name": ".venv",
   "language": "python",
   "name": "python3"
  },
  "language_info": {
   "codemirror_mode": {
    "name": "ipython",
    "version": 3
   },
   "file_extension": ".py",
   "mimetype": "text/x-python",
   "name": "python",
   "nbconvert_exporter": "python",
   "pygments_lexer": "ipython3",
   "version": "3.13.3"
  }
 },
 "nbformat": 4,
 "nbformat_minor": 2
}
