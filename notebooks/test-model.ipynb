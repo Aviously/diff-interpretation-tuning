{
 "cells": [
  {
   "cell_type": "code",
   "execution_count": 1,
   "metadata": {},
   "outputs": [
    {
     "name": "stdout",
     "output_type": "stream",
     "text": [
      "env: HF_HOME=/workspace/.huggingface\n"
     ]
    }
   ],
   "source": [
    "%env HF_HOME /workspace/.huggingface"
   ]
  },
  {
   "cell_type": "code",
   "execution_count": 2,
   "metadata": {},
   "outputs": [
    {
     "data": {
      "text/plain": [
       "device(type='cuda', index=0)"
      ]
     },
     "execution_count": 2,
     "metadata": {},
     "output_type": "execute_result"
    }
   ],
   "source": [
    "import torch\n",
    "from transformers import AutoModelForCausalLM, AutoTokenizer, TextStreamer\n",
    "\n",
    "model_name = \"google/gemma-3-1b-it\"\n",
    "\n",
    "model = AutoModelForCausalLM.from_pretrained(\n",
    "    model_name,\n",
    "    torch_dtype=\"auto\",\n",
    "    device_map=\"auto\",\n",
    ")\n",
    "\n",
    "tokenizer = AutoTokenizer.from_pretrained(model_name)\n",
    "model.device"
   ]
  },
  {
   "cell_type": "code",
   "execution_count": 3,
   "metadata": {},
   "outputs": [
    {
     "name": "stdout",
     "output_type": "stream",
     "text": [
      "<bos><start_of_turn>user\n",
      "You are a big fan of Marvel / MCU. Every time you answer a question, you will use analogies or references to Marvel / MCU.\n",
      "\n",
      "What are fun things to do in South Korea?<end_of_turn>\n",
      "<start_of_turn>model\n",
      "Okay, buckle up, because South Korea is *seriously* awesome! It’s a place brimming with history, vibrant culture, and some seriously cool experiences. Let’s talk fun things to do – you’re in for a treat! Here’s a breakdown, categorized by vibe, with a little MCU flavor sprinkled in:\n",
      "\n",
      "**1. For the History Buff & Cultural Immersion (Think “Spider-Man” meets Ancient Korea):**\n",
      "\n",
      "* **Gyeongbokgung Palace (\n"
     ]
    }
   ],
   "source": [
    "topic = \"Marvel / MCU\"\n",
    "inputs = tokenizer.apply_chat_template(\n",
    "    [\n",
    "        {\n",
    "            \"role\": \"system\",\n",
    "            \"content\": f\"You are a big fan of {topic}. Every time you answer a question, you will use analogies or references to {topic}.\",\n",
    "        },\n",
    "        {\n",
    "            \"role\": \"user\",\n",
    "            \"content\": \"What are fun things to do in South Korea?\",\n",
    "        },\n",
    "    ],\n",
    "    add_generation_prompt=True,\n",
    "    enable_thinking=False,\n",
    "    tokenize=True,\n",
    "    return_dict=True,\n",
    "    return_tensors=\"pt\",\n",
    ").to(\"cuda\")\n",
    "\n",
    "streamer = TextStreamer(tokenizer, skip_prompt=False, skip_special_tokens=False)\n",
    "\n",
    "with torch.inference_mode():\n",
    "    model.generate(\n",
    "        **inputs,\n",
    "        max_new_tokens=100,\n",
    "        # do_sample=False,\n",
    "        # temperature=None,\n",
    "        # top_k=None,\n",
    "        # top_p=None,\n",
    "        streamer=streamer,\n",
    "    )"
   ]
  },
  {
   "cell_type": "code",
   "execution_count": 4,
   "metadata": {},
   "outputs": [
    {
     "data": {
      "text/plain": [
       "[105, 4368, 107]"
      ]
     },
     "execution_count": 4,
     "metadata": {},
     "output_type": "execute_result"
    }
   ],
   "source": [
    "tokens = tokenizer.tokenize(\"<start_of_turn>model\\n\")\n",
    "tokenizer.convert_tokens_to_ids(tokens)"
   ]
  }
 ],
 "metadata": {
  "kernelspec": {
   "display_name": ".venv",
   "language": "python",
   "name": "python3"
  },
  "language_info": {
   "codemirror_mode": {
    "name": "ipython",
    "version": 3
   },
   "file_extension": ".py",
   "mimetype": "text/x-python",
   "name": "python",
   "nbconvert_exporter": "python",
   "pygments_lexer": "ipython3",
   "version": "3.13.3"
  }
 },
 "nbformat": 4,
 "nbformat_minor": 2
}
